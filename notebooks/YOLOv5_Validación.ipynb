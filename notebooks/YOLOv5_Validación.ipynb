{
  "nbformat": 4,
  "nbformat_minor": 0,
  "metadata": {
    "colab": {
      "provenance": [],
      "gpuType": "T4"
    },
    "kernelspec": {
      "name": "python3",
      "display_name": "Python 3"
    },
    "language_info": {
      "name": "python"
    },
    "accelerator": "GPU"
  },
  "cells": [
    {
      "cell_type": "markdown",
      "source": [
        "# Setup"
      ],
      "metadata": {
        "id": "Ylga1Wu9GeZx"
      }
    },
    {
      "cell_type": "code",
      "execution_count": null,
      "metadata": {
        "id": "eKKw7mUzByoB"
      },
      "outputs": [],
      "source": [
        "# Importamos las librerias necesarias\n",
        "\n",
        "import shutil\n",
        "from PIL import Image, ImageDraw\n",
        "from matplotlib.pyplot import imshow\n",
        "import numpy as np\n",
        "import glob\n",
        "import os\n",
        "import re\n",
        "from datetime import datetime\n",
        "from pathlib import Path"
      ]
    },
    {
      "cell_type": "code",
      "source": [
        "!mkdir datasets"
      ],
      "metadata": {
        "id": "ZzXJ4Mg6CUeE"
      },
      "execution_count": null,
      "outputs": []
    },
    {
      "cell_type": "code",
      "source": [
        "def full_name_func(source_folder,dataset,file_exclusion_patterns = [],subdirectories_included = [],frames = 4):\n",
        "\n",
        "    full_name_list = []\n",
        "\n",
        "\n",
        "    for root, dirs, files in os.walk(source_folder):\n",
        "        for directory in dirs:\n",
        "            if directory == 'images':\n",
        "                source_images_path = os.path.join(root, directory)\n",
        "                for file in os.listdir(source_images_path):\n",
        "                    if not file.startswith(tuple(file_exclusion_patterns)):\n",
        "                        src_file = os.path.join(source_images_path, file)\n",
        "                        subfolder = os.path.basename(Path(src_file).parents[1])\n",
        "                        if ((subfolder in subdirectories_included) or (not subdirectories_included)):\n",
        "                            full_name = dataset + '-' + subfolder +'-'+ file\n",
        "                            full_name_list.append(full_name[:-4])\n",
        "\n",
        "    full_name_list.sort()\n",
        "\n",
        "    final_list = [file for i,file in enumerate(full_name_list) if i%frames == 0]\n",
        "\n",
        "\n",
        "    return final_list"
      ],
      "metadata": {
        "id": "YuUL3ALaBUtV"
      },
      "execution_count": null,
      "outputs": []
    },
    {
      "cell_type": "code",
      "source": [
        "def drive_to_colab(source_folder,destination_images,destination_labels,dataset,file_list):\n",
        "\n",
        "    os.makedirs(destination_images, exist_ok=True)\n",
        "    os.makedirs(destination_labels, exist_ok=True)\n",
        "\n",
        "\n",
        "    for root, dirs, files in os.walk(source_folder):\n",
        "        for directory in dirs:\n",
        "            if directory == 'images':\n",
        "                source_images_path = os.path.join(root, directory)\n",
        "                for file in os.listdir(source_images_path):\n",
        "                    src_file = os.path.join(source_images_path, file)\n",
        "                    dst_file = os.path.join(destination_images, file)\n",
        "\n",
        "                    subfolder = os.path.basename(Path(src_file).parents[1])\n",
        "                    full_name = dataset + '-' + subfolder +'-'+ file\n",
        "                    new_path = os.path.join(destination_images, full_name)\n",
        "\n",
        "                    if full_name[:-4] in file_list:\n",
        "                        shutil.copy(src_file, dst_file)\n",
        "                        shutil.move(dst_file, new_path)\n",
        "            elif directory == 'labels':\n",
        "                source_labels_path = os.path.join(root, directory)\n",
        "                for file in os.listdir(source_labels_path):\n",
        "                    src_file = os.path.join(source_labels_path, file)\n",
        "                    dst_file = os.path.join(destination_labels, file)\n",
        "\n",
        "                    subfolder = os.path.basename(Path(src_file).parents[1])\n",
        "                    full_name = dataset + '-' + subfolder +'-'+ file\n",
        "                    new_path = os.path.join(destination_labels, full_name)\n",
        "\n",
        "                    if full_name[:-4] in file_list:\n",
        "                        shutil.copy(src_file, dst_file)\n",
        "                        shutil.move(dst_file, new_path)"
      ],
      "metadata": {
        "id": "jtYsB_GeCU4a"
      },
      "execution_count": null,
      "outputs": []
    },
    {
      "cell_type": "code",
      "source": [
        "subs = []\n",
        "for i in range(102,126):\n",
        "  subs.append(str(i) + 'FTASK')\n",
        "# Carpetas que no existen\n",
        "for item in ['115FTASK','104FTASK','107FTASK','109FTASK','112FTASK',]:\n",
        "  subs.remove(item)\n",
        "\n",
        "# Carpetas usadas en train\n",
        "for item in ['106FTASK','108FTASK','113FTASK','114FTASK','119FTASK','120FTASK','122FTASK','125FTASK']:\n",
        "  subs.remove(item)"
      ],
      "metadata": {
        "id": "TNqoE9KeB8-O"
      },
      "execution_count": null,
      "outputs": []
    },
    {
      "cell_type": "code",
      "source": [
        "destination_images = '/content/datasets/DELT/images/val'\n",
        "destination_labels = '/content/datasets/DELT/labels/val'\n",
        "\n",
        "source_folder = '/content/drive/MyDrive/UOC/DELT/osaconservation/Arribada2023GT'\n",
        "\n",
        "dataset = 'osaconservation'\n",
        "\n",
        "n_frames = 1\n",
        "\n",
        "s_included = subs\n",
        "# s_included = []\n",
        "\n",
        "source_folder = '/content/drive/MyDrive/UOC/DELT/' + dataset\n",
        "file_list = full_name_func(source_folder,dataset,subdirectories_included = s_included,frames=n_frames)\n",
        "drive_to_colab(source_folder,destination_images,destination_labels,dataset,file_list)\n"
      ],
      "metadata": {
        "id": "zny9toyBCcqr"
      },
      "execution_count": null,
      "outputs": []
    },
    {
      "cell_type": "code",
      "source": [
        "!git clone https://github.com/ultralytics/yolov5\n",
        "%cd yolov5\n",
        "%pip install -qr requirements.txt comet_ml\n",
        "\n",
        "import torch\n",
        "import utils\n",
        "\n",
        "display = utils.notebook_init()"
      ],
      "metadata": {
        "id": "rCWkVgycCq4T",
        "colab": {
          "base_uri": "https://localhost:8080/"
        },
        "outputId": "532a2dbe-98b6-46dd-9f93-8a596ad91241"
      },
      "execution_count": null,
      "outputs": [
        {
          "output_type": "stream",
          "name": "stderr",
          "text": [
            "YOLOv5 🚀 v7.0-389-ge62a31b6 Python-3.10.12 torch-2.5.1+cu121 CUDA:0 (Tesla T4, 15102MiB)\n"
          ]
        },
        {
          "output_type": "stream",
          "name": "stdout",
          "text": [
            "Setup complete ✅ (2 CPUs, 12.7 GB RAM, 32.9/235.7 GB disk)\n"
          ]
        }
      ]
    },
    {
      "cell_type": "code",
      "source": [
        "!cp ../drive/MyDrive/UOC/DELT/DELT.yaml data\n",
        "!cp ../drive/MyDrive/UOC/DELT/.comet.config ."
      ],
      "metadata": {
        "id": "3GMIr70SCrUy"
      },
      "execution_count": null,
      "outputs": []
    },
    {
      "cell_type": "markdown",
      "source": [
        "## Osaconservation"
      ],
      "metadata": {
        "id": "IYFZO7_qMrlC"
      }
    },
    {
      "cell_type": "code",
      "source": [
        "model_v = 'osaconservation-202411110929-yolov5s'\n",
        "weigths_path = '/content/drive/MyDrive/UOC/DELT/weights/'+model_v+'/weights/best.pt'\n",
        "\n",
        "project_name = model_v + '-val'\n",
        "project_folder = '/content/drive/MyDrive/UOC/DELT/weights'\n",
        "\n",
        "!env COMET_LOG_PER_CLASS_METRICS=true python val.py --data data/DELT.yaml --weights {weigths_path} --project {project_folder} --name {project_name}"
      ],
      "metadata": {
        "colab": {
          "base_uri": "https://localhost:8080/"
        },
        "id": "8JJQATH3DGog",
        "outputId": "47b67cce-451e-441e-f965-472d546955a0"
      },
      "execution_count": null,
      "outputs": [
        {
          "output_type": "stream",
          "name": "stdout",
          "text": [
            "\u001b[34m\u001b[1mval: \u001b[0mdata=data/DELT.yaml, weights=['/content/drive/MyDrive/UOC/DELT/weights/osaconservation-202411110929-yolov5s/weights/best.pt'], batch_size=32, imgsz=640, conf_thres=0.001, iou_thres=0.6, max_det=300, task=val, device=, workers=8, single_cls=False, augment=False, verbose=False, save_txt=False, save_hybrid=False, save_conf=False, save_json=False, project=/content/drive/MyDrive/UOC/DELT/weights, name=osaconservation-202411110929-yolov5s-val, exist_ok=False, half=False, dnn=False\n",
            "YOLOv5 🚀 v7.0-383-g1435a8ee Python-3.10.12 torch-2.5.0+cu121 CUDA:0 (Tesla T4, 15102MiB)\n",
            "\n",
            "Fusing layers... \n",
            "Model summary: 157 layers, 7012822 parameters, 0 gradients, 15.8 GFLOPs\n",
            "\u001b[34m\u001b[1mval: \u001b[0mScanning /content/datasets/DELT/labels/val... 2580 images, 1723 backgrounds, 0 corrupt: 100% 4303/4303 [00:04<00:00, 1058.59it/s]\n",
            "\u001b[34m\u001b[1mval: \u001b[0mNew cache created: /content/datasets/DELT/labels/val.cache\n",
            "                 Class     Images  Instances          P          R      mAP50   mAP50-95: 100% 135/135 [01:12<00:00,  1.86it/s]\n",
            "                   all       4303      11690      0.958      0.947       0.98      0.735\n",
            "Speed: 0.2ms pre-process, 4.8ms inference, 2.0ms NMS per image at shape (32, 3, 640, 640)\n",
            "Results saved to \u001b[1m/content/drive/MyDrive/UOC/DELT/weights/osaconservation-202411110929-yolov5s-val3\u001b[0m\n"
          ]
        }
      ]
    },
    {
      "cell_type": "markdown",
      "source": [
        "## Osaconservation & Vivemar"
      ],
      "metadata": {
        "id": "ZXXMvbKZQ36l"
      }
    },
    {
      "cell_type": "code",
      "source": [
        "model_v = 'osaconservation-vivemar-202411111444-yolov5s'\n",
        "weigths_path = '/content/drive/MyDrive/UOC/DELT/weights/'+model_v+'/weights/best.pt'\n",
        "\n",
        "project_name = model_v + '-val'\n",
        "project_folder = '/content/drive/MyDrive/UOC/DELT/weights'\n",
        "\n",
        "!env COMET_LOG_PER_CLASS_METRICS=true python val.py --data data/DELT.yaml --weights {weigths_path} --project {project_folder} --name {project_name}"
      ],
      "metadata": {
        "colab": {
          "base_uri": "https://localhost:8080/"
        },
        "id": "1vCDwQUPQ_9U",
        "outputId": "ff744d3b-220e-45ec-921e-928cb73742cc"
      },
      "execution_count": null,
      "outputs": [
        {
          "output_type": "stream",
          "name": "stdout",
          "text": [
            "\u001b[34m\u001b[1mval: \u001b[0mdata=data/DELT.yaml, weights=['/content/drive/MyDrive/UOC/DELT/weights/osaconservation-vivemar-202411111444-yolov5s/weights/best.pt'], batch_size=32, imgsz=640, conf_thres=0.001, iou_thres=0.6, max_det=300, task=val, device=, workers=8, single_cls=False, augment=False, verbose=False, save_txt=False, save_hybrid=False, save_conf=False, save_json=False, project=/content/drive/MyDrive/UOC/DELT/weights, name=osaconservation-vivemar-202411111444-yolov5s-val, exist_ok=False, half=False, dnn=False\n",
            "YOLOv5 🚀 v7.0-383-g1435a8ee Python-3.10.12 torch-2.5.0+cu121 CUDA:0 (Tesla T4, 15102MiB)\n",
            "\n",
            "Fusing layers... \n",
            "Model summary: 157 layers, 7012822 parameters, 0 gradients, 15.8 GFLOPs\n",
            "\u001b[34m\u001b[1mval: \u001b[0mScanning /content/datasets/DELT/labels/val.cache... 2580 images, 1723 backgrounds, 0 corrupt: 100% 4303/4303 [00:00<?, ?it/s]\n",
            "                 Class     Images  Instances          P          R      mAP50   mAP50-95: 100% 135/135 [01:17<00:00,  1.75it/s]\n",
            "                   all       4303      11690      0.958      0.947       0.98      0.734\n",
            "Speed: 0.2ms pre-process, 4.8ms inference, 2.0ms NMS per image at shape (32, 3, 640, 640)\n",
            "Results saved to \u001b[1m/content/drive/MyDrive/UOC/DELT/weights/osaconservation-vivemar-202411111444-yolov5s-val\u001b[0m\n"
          ]
        }
      ]
    },
    {
      "cell_type": "markdown",
      "source": [
        "## Osaconservation & YouTube"
      ],
      "metadata": {
        "id": "KmqB0lZnRDgg"
      }
    },
    {
      "cell_type": "code",
      "source": [
        "model_v = 'osaconservation-youtubenew-202411121056-yolov5s'\n",
        "weigths_path = '/content/drive/MyDrive/UOC/DELT/weights/'+model_v+'/weights/best.pt'\n",
        "\n",
        "project_name = model_v + '-val'\n",
        "project_folder = '/content/drive/MyDrive/UOC/DELT/weights'\n",
        "\n",
        "!env COMET_LOG_PER_CLASS_METRICS=true python val.py --data data/DELT.yaml --weights {weigths_path} --project {project_folder} --name {project_name}"
      ],
      "metadata": {
        "colab": {
          "base_uri": "https://localhost:8080/"
        },
        "id": "fWwlqZXdRHCI",
        "outputId": "d696626e-94c7-4bee-f04e-1228b40d68bc"
      },
      "execution_count": null,
      "outputs": [
        {
          "output_type": "stream",
          "name": "stdout",
          "text": [
            "\u001b[34m\u001b[1mval: \u001b[0mdata=data/DELT.yaml, weights=['/content/drive/MyDrive/UOC/DELT/weights/osaconservation-youtubenew-202411121056-yolov5s/weights/best.pt'], batch_size=32, imgsz=640, conf_thres=0.001, iou_thres=0.6, max_det=300, task=val, device=, workers=8, single_cls=False, augment=False, verbose=False, save_txt=False, save_hybrid=False, save_conf=False, save_json=False, project=/content/drive/MyDrive/UOC/DELT/weights, name=osaconservation-youtubenew-202411121056-yolov5s-val, exist_ok=False, half=False, dnn=False\n",
            "YOLOv5 🚀 v7.0-383-g1435a8ee Python-3.10.12 torch-2.5.0+cu121 CUDA:0 (Tesla T4, 15102MiB)\n",
            "\n",
            "Fusing layers... \n",
            "Model summary: 157 layers, 7012822 parameters, 0 gradients, 15.8 GFLOPs\n",
            "\u001b[34m\u001b[1mval: \u001b[0mScanning /content/datasets/DELT/labels/val.cache... 2580 images, 1723 backgrounds, 0 corrupt: 100% 4303/4303 [00:00<?, ?it/s]\n",
            "                 Class     Images  Instances          P          R      mAP50   mAP50-95: 100% 135/135 [01:15<00:00,  1.79it/s]\n",
            "                   all       4303      11690      0.952      0.937      0.974      0.713\n",
            "Speed: 0.2ms pre-process, 5.0ms inference, 1.9ms NMS per image at shape (32, 3, 640, 640)\n",
            "Results saved to \u001b[1m/content/drive/MyDrive/UOC/DELT/weights/osaconservation-youtubenew-202411121056-yolov5s-val\u001b[0m\n"
          ]
        }
      ]
    },
    {
      "cell_type": "markdown",
      "source": [
        "## Osaconservation & FloridaState"
      ],
      "metadata": {
        "id": "xRgagARXRN2G"
      }
    },
    {
      "cell_type": "code",
      "source": [
        "model_v = 'osaconservation-floridaState-202411120851-yolov5s'\n",
        "weigths_path = '/content/drive/MyDrive/UOC/DELT/weights/'+model_v+'/weights/best.pt'\n",
        "\n",
        "project_name = model_v + '-val'\n",
        "project_folder = '/content/drive/MyDrive/UOC/DELT/weights'\n",
        "\n",
        "!env COMET_LOG_PER_CLASS_METRICS=true python val.py --data data/DELT.yaml --weights {weigths_path} --project {project_folder} --name {project_name}"
      ],
      "metadata": {
        "colab": {
          "base_uri": "https://localhost:8080/"
        },
        "id": "BP9ogz8yRNe7",
        "outputId": "f3e3062a-20e7-4826-9ac2-29dac8dad4a6"
      },
      "execution_count": null,
      "outputs": [
        {
          "output_type": "stream",
          "name": "stdout",
          "text": [
            "\u001b[34m\u001b[1mval: \u001b[0mdata=data/DELT.yaml, weights=['/content/drive/MyDrive/UOC/DELT/weights/osaconservation-floridaState-202411120851-yolov5s/weights/best.pt'], batch_size=32, imgsz=640, conf_thres=0.001, iou_thres=0.6, max_det=300, task=val, device=, workers=8, single_cls=False, augment=False, verbose=False, save_txt=False, save_hybrid=False, save_conf=False, save_json=False, project=/content/drive/MyDrive/UOC/DELT/weights, name=osaconservation-floridaState-202411120851-yolov5s-val, exist_ok=False, half=False, dnn=False\n",
            "YOLOv5 🚀 v7.0-383-g1435a8ee Python-3.10.12 torch-2.5.0+cu121 CUDA:0 (Tesla T4, 15102MiB)\n",
            "\n",
            "Fusing layers... \n",
            "Model summary: 157 layers, 7012822 parameters, 0 gradients, 15.8 GFLOPs\n",
            "\u001b[34m\u001b[1mval: \u001b[0mScanning /content/datasets/DELT/labels/val.cache... 2580 images, 1723 backgrounds, 0 corrupt: 100% 4303/4303 [00:00<?, ?it/s]\n",
            "                 Class     Images  Instances          P          R      mAP50   mAP50-95:   0% 0/135 [00:00<?, ?it/s]WARNING ⚠️ NMS time limit 2.100s exceeded\n",
            "                 Class     Images  Instances          P          R      mAP50   mAP50-95: 100% 135/135 [01:13<00:00,  1.83it/s]\n",
            "                   all       4303      11690      0.955      0.945      0.977      0.727\n",
            "Speed: 0.3ms pre-process, 5.1ms inference, 2.0ms NMS per image at shape (32, 3, 640, 640)\n",
            "Results saved to \u001b[1m/content/drive/MyDrive/UOC/DELT/weights/osaconservation-floridaState-202411120851-yolov5s-val\u001b[0m\n"
          ]
        }
      ]
    },
    {
      "cell_type": "markdown",
      "source": [
        "# FloridaState"
      ],
      "metadata": {
        "id": "bsNI4IOWa8zV"
      }
    },
    {
      "cell_type": "code",
      "source": [
        "model_v = 'floridaState-202411151502-yolov5s-new_version-1_frames'\n",
        "weigths_path = '/content/drive/MyDrive/UOC/DELT/weights/'+model_v+'/weights/best.pt'\n",
        "\n",
        "project_name = model_v + '-val'\n",
        "project_folder = '/content/drive/MyDrive/UOC/DELT/weights'\n",
        "\n",
        "!env COMET_LOG_PER_CLASS_METRICS=true python val.py --data data/DELT.yaml --weights {weigths_path} --project {project_folder} --name {project_name}"
      ],
      "metadata": {
        "colab": {
          "base_uri": "https://localhost:8080/"
        },
        "id": "4pWx8zYva-_8",
        "outputId": "1985dd9f-08d1-4062-e182-e479d1ebcad5"
      },
      "execution_count": null,
      "outputs": [
        {
          "output_type": "stream",
          "name": "stdout",
          "text": [
            "\u001b[34m\u001b[1mval: \u001b[0mdata=data/DELT.yaml, weights=['/content/drive/MyDrive/UOC/DELT/weights/floridaState-202411151502-yolov5s-new_version-1_frames/weights/best.pt'], batch_size=32, imgsz=640, conf_thres=0.001, iou_thres=0.6, max_det=300, task=val, device=, workers=8, single_cls=False, augment=False, verbose=False, save_txt=False, save_hybrid=False, save_conf=False, save_json=False, project=/content/drive/MyDrive/UOC/DELT/weights, name=floridaState-202411151502-yolov5s-new_version-1_frames-val, exist_ok=False, half=False, dnn=False\n",
            "YOLOv5 🚀 v7.0-383-g1435a8ee Python-3.10.12 torch-2.5.0+cu121 CUDA:0 (Tesla T4, 15102MiB)\n",
            "\n",
            "Fusing layers... \n",
            "Model summary: 157 layers, 7012822 parameters, 0 gradients, 15.8 GFLOPs\n",
            "\u001b[34m\u001b[1mval: \u001b[0mScanning /content/datasets/DELT/labels/val... 2756 images, 1723 backgrounds, 0 corrupt: 100% 4479/4479 [00:06<00:00, 651.59it/s]\n",
            "\u001b[34m\u001b[1mval: \u001b[0mNew cache created: /content/datasets/DELT/labels/val.cache\n",
            "                 Class     Images  Instances          P          R      mAP50   mAP50-95: 100% 140/140 [01:13<00:00,  1.89it/s]\n",
            "                   all       4479      11959     0.0316      0.802      0.103     0.0229\n",
            "Speed: 0.2ms pre-process, 4.9ms inference, 2.0ms NMS per image at shape (32, 3, 640, 640)\n",
            "Results saved to \u001b[1m/content/drive/MyDrive/UOC/DELT/weights/floridaState-202411151502-yolov5s-new_version-1_frames-val\u001b[0m\n"
          ]
        }
      ]
    },
    {
      "cell_type": "markdown",
      "source": [
        "## YouTube"
      ],
      "metadata": {
        "id": "IA-dau7yc0x9"
      }
    },
    {
      "cell_type": "code",
      "source": [
        "model_v = 'youtubenew-202411141045-yolov5s'\n",
        "weigths_path = '/content/drive/MyDrive/UOC/DELT/weights/'+model_v+'/weights/best.pt'\n",
        "\n",
        "project_name = model_v + '-val'\n",
        "project_folder = '/content/drive/MyDrive/UOC/DELT/weights'\n",
        "\n",
        "!env COMET_LOG_PER_CLASS_METRICS=true python val.py --data data/DELT.yaml --weights {weigths_path} --project {project_folder} --name {project_name}"
      ],
      "metadata": {
        "colab": {
          "base_uri": "https://localhost:8080/"
        },
        "id": "SOMZL5G0c-CP",
        "outputId": "aebd5aed-6bfb-47d2-9ea4-1de7ceae6475"
      },
      "execution_count": null,
      "outputs": [
        {
          "output_type": "stream",
          "name": "stdout",
          "text": [
            "\u001b[34m\u001b[1mval: \u001b[0mdata=data/DELT.yaml, weights=['/content/drive/MyDrive/UOC/DELT/weights/youtubenew-202411141045-yolov5s/weights/best.pt'], batch_size=32, imgsz=640, conf_thres=0.001, iou_thres=0.6, max_det=300, task=val, device=, workers=8, single_cls=False, augment=False, verbose=False, save_txt=False, save_hybrid=False, save_conf=False, save_json=False, project=/content/drive/MyDrive/UOC/DELT/weights, name=youtubenew-202411141045-yolov5s-val, exist_ok=False, half=False, dnn=False\n",
            "YOLOv5 🚀 v7.0-383-g1435a8ee Python-3.10.12 torch-2.5.0+cu121 CUDA:0 (Tesla T4, 15102MiB)\n",
            "\n",
            "Fusing layers... \n",
            "Model summary: 157 layers, 7012822 parameters, 0 gradients, 15.8 GFLOPs\n",
            "\u001b[34m\u001b[1mval: \u001b[0mScanning /content/datasets/DELT/labels/val... 2756 images, 1723 backgrounds, 0 corrupt: 100% 4479/4479 [00:02<00:00, 1951.91it/s]\n",
            "\u001b[34m\u001b[1mval: \u001b[0mNew cache created: /content/datasets/DELT/labels/val.cache\n",
            "                 Class     Images  Instances          P          R      mAP50   mAP50-95: 100% 140/140 [01:19<00:00,  1.77it/s]\n",
            "                   all       4479      11959      0.813      0.796      0.813      0.362\n",
            "Speed: 0.2ms pre-process, 4.8ms inference, 1.9ms NMS per image at shape (32, 3, 640, 640)\n",
            "Results saved to \u001b[1m/content/drive/MyDrive/UOC/DELT/weights/youtubenew-202411141045-yolov5s-val2\u001b[0m\n"
          ]
        }
      ]
    },
    {
      "cell_type": "markdown",
      "source": [
        "# Vivemar (27 epocas)"
      ],
      "metadata": {
        "id": "ZkPiGagI-6Er"
      }
    },
    {
      "cell_type": "code",
      "source": [
        "model_v = 'vivemar-202411141319-yolov5s'\n",
        "weigths_path = '/content/drive/MyDrive/UOC/DELT/weights/'+model_v+'/weights/best.pt'\n",
        "\n",
        "project_name = model_v + '-val'\n",
        "project_folder = '/content/drive/MyDrive/UOC/DELT/weights'\n",
        "\n",
        "!python val.py --data data/DELT.yaml --weights {weigths_path} --project {project_folder} --name {project_name}"
      ],
      "metadata": {
        "colab": {
          "base_uri": "https://localhost:8080/"
        },
        "id": "feN3i4qm-52n",
        "outputId": "4a6a307c-3b24-446b-8270-6f390e9543b2"
      },
      "execution_count": null,
      "outputs": [
        {
          "output_type": "stream",
          "name": "stdout",
          "text": [
            "\u001b[34m\u001b[1mval: \u001b[0mdata=data/DELT.yaml, weights=['/content/drive/MyDrive/UOC/DELT/weights/vivemar-202411141319-yolov5s/weights/best.pt'], batch_size=32, imgsz=640, conf_thres=0.001, iou_thres=0.6, max_det=300, task=val, device=, workers=8, single_cls=False, augment=False, verbose=False, save_txt=False, save_hybrid=False, save_conf=False, save_json=False, project=/content/drive/MyDrive/UOC/DELT/weights, name=vivemar-202411141319-yolov5s-val, exist_ok=False, half=False, dnn=False\n",
            "YOLOv5 🚀 v7.0-383-g1435a8ee Python-3.10.12 torch-2.5.0+cu121 CUDA:0 (Tesla T4, 15102MiB)\n",
            "\n",
            "Fusing layers... \n",
            "Model summary: 157 layers, 7012822 parameters, 0 gradients, 15.8 GFLOPs\n",
            "\u001b[34m\u001b[1mval: \u001b[0mScanning /content/datasets/DELT/labels/val.cache... 2756 images, 1723 backgrounds, 0 corrupt: 100% 4479/4479 [00:00<?, ?it/s]\n",
            "                 Class     Images  Instances          P          R      mAP50   mAP50-95: 100% 140/140 [01:15<00:00,  1.86it/s]\n",
            "                   all       4479      11959      0.446        0.4      0.293      0.136\n",
            "Speed: 0.2ms pre-process, 5.0ms inference, 1.9ms NMS per image at shape (32, 3, 640, 640)\n",
            "Results saved to \u001b[1m/content/drive/MyDrive/UOC/DELT/weights/vivemar-202411141319-yolov5s-val3\u001b[0m\n"
          ]
        }
      ]
    },
    {
      "cell_type": "markdown",
      "source": [
        "# Youtube - 5 frames (Paciencia 5)"
      ],
      "metadata": {
        "id": "DwdtqSQB5h69"
      }
    },
    {
      "cell_type": "code",
      "source": [
        "model_v = 'youtubenew-202411150808-yolov5s-new_version'\n",
        "weigths_path = '/content/drive/MyDrive/UOC/DELT/weights/'+model_v+'/weights/best.pt'\n",
        "\n",
        "project_name = model_v + '-val'\n",
        "project_folder = '/content/drive/MyDrive/UOC/DELT/weights'\n",
        "\n",
        "!python val.py --data data/DELT.yaml --weights {weigths_path} --project {project_folder} --name {project_name}"
      ],
      "metadata": {
        "colab": {
          "base_uri": "https://localhost:8080/"
        },
        "id": "RdUji3Qj5nG_",
        "outputId": "587c5e48-c2f0-460a-c88b-5df4a760ebdc"
      },
      "execution_count": null,
      "outputs": [
        {
          "output_type": "stream",
          "name": "stdout",
          "text": [
            "\u001b[34m\u001b[1mval: \u001b[0mdata=data/DELT.yaml, weights=['/content/drive/MyDrive/UOC/DELT/weights/youtubenew-202411150808-yolov5s-new_version/weights/best.pt'], batch_size=32, imgsz=640, conf_thres=0.001, iou_thres=0.6, max_det=300, task=val, device=, workers=8, single_cls=False, augment=False, verbose=False, save_txt=False, save_hybrid=False, save_conf=False, save_json=False, project=/content/drive/MyDrive/UOC/DELT/weights, name=youtubenew-202411150808-yolov5s-new_version-val, exist_ok=False, half=False, dnn=False\n",
            "YOLOv5 🚀 v7.0-383-g1435a8ee Python-3.10.12 torch-2.5.0+cu121 CUDA:0 (Tesla T4, 15102MiB)\n",
            "\n",
            "Fusing layers... \n",
            "Model summary: 157 layers, 7012822 parameters, 0 gradients, 15.8 GFLOPs\n",
            "\u001b[34m\u001b[1mval: \u001b[0mScanning /content/datasets/DELT/labels/val... 2580 images, 1723 backgrounds, 0 corrupt: 100% 4303/4303 [00:02<00:00, 1557.45it/s]\n",
            "\u001b[34m\u001b[1mval: \u001b[0mNew cache created: /content/datasets/DELT/labels/val.cache\n",
            "                 Class     Images  Instances          P          R      mAP50   mAP50-95:   0% 0/135 [00:00<?, ?it/s]WARNING ⚠️ NMS time limit 2.100s exceeded\n",
            "                 Class     Images  Instances          P          R      mAP50   mAP50-95: 100% 135/135 [01:13<00:00,  1.83it/s]\n",
            "                   all       4303      11690      0.764      0.675      0.717      0.285\n",
            "Speed: 0.2ms pre-process, 4.9ms inference, 2.1ms NMS per image at shape (32, 3, 640, 640)\n",
            "Results saved to \u001b[1m/content/drive/MyDrive/UOC/DELT/weights/youtubenew-202411150808-yolov5s-new_version-val\u001b[0m\n"
          ]
        }
      ]
    },
    {
      "cell_type": "markdown",
      "source": [
        "Creo que se tendría que haber entrenado más etapas. Es un resultado a ignorar."
      ],
      "metadata": {
        "id": "b8KXktM_O9lI"
      }
    },
    {
      "cell_type": "markdown",
      "source": [
        "# Vivemar - 5 frames (Paciencia 5)"
      ],
      "metadata": {
        "id": "Zk70dt7V9v5i"
      }
    },
    {
      "cell_type": "code",
      "source": [
        "model_v = 'vivemar-202411150826-yolov5s-new_version-5_frames'\n",
        "weigths_path = '/content/drive/MyDrive/UOC/DELT/weights/'+model_v+'/weights/best.pt'\n",
        "\n",
        "project_name = model_v + '-val'\n",
        "project_folder = '/content/drive/MyDrive/UOC/DELT/weights'\n",
        "\n",
        "!python val.py --data data/DELT.yaml --weights {weigths_path} --project {project_folder} --name {project_name}"
      ],
      "metadata": {
        "colab": {
          "base_uri": "https://localhost:8080/"
        },
        "id": "9zmk3Zdj9yPL",
        "outputId": "414d6e6e-5821-49c5-ff6d-4ec1d02d2109"
      },
      "execution_count": null,
      "outputs": [
        {
          "output_type": "stream",
          "name": "stdout",
          "text": [
            "\u001b[34m\u001b[1mval: \u001b[0mdata=data/DELT.yaml, weights=['/content/drive/MyDrive/UOC/DELT/weights/vivemar-202411150826-yolov5s-new_version-5_frames/weights/best.pt'], batch_size=32, imgsz=640, conf_thres=0.001, iou_thres=0.6, max_det=300, task=val, device=, workers=8, single_cls=False, augment=False, verbose=False, save_txt=False, save_hybrid=False, save_conf=False, save_json=False, project=/content/drive/MyDrive/UOC/DELT/weights, name=vivemar-202411150826-yolov5s-new_version-5_frames-val, exist_ok=False, half=False, dnn=False\n",
            "YOLOv5 🚀 v7.0-383-g1435a8ee Python-3.10.12 torch-2.5.0+cu121 CUDA:0 (Tesla T4, 15102MiB)\n",
            "\n",
            "Fusing layers... \n",
            "Model summary: 157 layers, 7012822 parameters, 0 gradients, 15.8 GFLOPs\n",
            "\u001b[34m\u001b[1mval: \u001b[0mScanning /content/datasets/DELT/labels/val... 2580 images, 1723 backgrounds, 0 corrupt: 100% 4303/4303 [00:02<00:00, 2035.84it/s]\n",
            "\u001b[34m\u001b[1mval: \u001b[0mNew cache created: /content/datasets/DELT/labels/val.cache\n",
            "                 Class     Images  Instances          P          R      mAP50   mAP50-95: 100% 135/135 [01:12<00:00,  1.87it/s]\n",
            "                   all       4303      11690       0.16      0.442      0.133      0.055\n",
            "Speed: 0.2ms pre-process, 4.9ms inference, 2.0ms NMS per image at shape (32, 3, 640, 640)\n",
            "Results saved to \u001b[1m/content/drive/MyDrive/UOC/DELT/weights/vivemar-202411150826-yolov5s-new_version-5_frames-val\u001b[0m\n"
          ]
        }
      ]
    },
    {
      "cell_type": "markdown",
      "source": [
        "Creo que se tendría que haber entrenado más etapas. Es un resultado a ignorar."
      ],
      "metadata": {
        "id": "Djysd9djPCSU"
      }
    },
    {
      "cell_type": "markdown",
      "source": [
        "# Osaconservation (con algunos subsets de Arribada2023) - 4 frames"
      ],
      "metadata": {
        "id": "r9iyiNF6JHA3"
      }
    },
    {
      "cell_type": "code",
      "source": [
        "model_v = 'osaconservation-202411150910-yolov5s-new_version-4_frames'\n",
        "weigths_path = '/content/drive/MyDrive/UOC/DELT/weights/'+model_v+'/weights/best.pt'\n",
        "\n",
        "project_name = model_v + '-val'\n",
        "project_folder = '/content/drive/MyDrive/UOC/DELT/weights'\n",
        "\n",
        "# Entrenado con ['PreArribada','105FTASK','111FTASK','121FTASK','124FTASK','103FTASK']\n",
        "\n",
        "!python val.py --data data/DELT.yaml --weights {weigths_path} --project {project_folder} --name {project_name}"
      ],
      "metadata": {
        "colab": {
          "base_uri": "https://localhost:8080/"
        },
        "id": "GkNFjM05JKkJ",
        "outputId": "ad9058ec-3908-40eb-bb94-286c2823ce11"
      },
      "execution_count": null,
      "outputs": [
        {
          "output_type": "stream",
          "name": "stdout",
          "text": [
            "\u001b[34m\u001b[1mval: \u001b[0mdata=data/DELT.yaml, weights=['/content/drive/MyDrive/UOC/DELT/weights/osaconservation-202411150910-yolov5s-new_version-4_frames/weights/best.pt'], batch_size=32, imgsz=640, conf_thres=0.001, iou_thres=0.6, max_det=300, task=val, device=, workers=8, single_cls=False, augment=False, verbose=False, save_txt=False, save_hybrid=False, save_conf=False, save_json=False, project=/content/drive/MyDrive/UOC/DELT/weights, name=osaconservation-202411150910-yolov5s-new_version-4_frames-val, exist_ok=False, half=False, dnn=False\n",
            "YOLOv5 🚀 v7.0-383-g1435a8ee Python-3.10.12 torch-2.5.0+cu121 CUDA:0 (Tesla T4, 15102MiB)\n",
            "\n",
            "Fusing layers... \n",
            "Model summary: 157 layers, 7012822 parameters, 0 gradients, 15.8 GFLOPs\n",
            "\u001b[34m\u001b[1mval: \u001b[0mScanning /content/datasets/DELT/labels/val... 1980 images, 1307 backgrounds, 0 corrupt: 100% 3287/3287 [00:01<00:00, 2039.73it/s]\n",
            "\u001b[34m\u001b[1mval: \u001b[0mNew cache created: /content/datasets/DELT/labels/val.cache\n",
            "                 Class     Images  Instances          P          R      mAP50   mAP50-95:   0% 0/103 [00:00<?, ?it/s]WARNING ⚠️ NMS time limit 2.100s exceeded\n",
            "                 Class     Images  Instances          P          R      mAP50   mAP50-95: 100% 103/103 [01:03<00:00,  1.62it/s]\n",
            "                   all       3287       9061      0.938       0.86      0.917       0.61\n",
            "Speed: 0.2ms pre-process, 4.8ms inference, 2.4ms NMS per image at shape (32, 3, 640, 640)\n",
            "Results saved to \u001b[1m/content/drive/MyDrive/UOC/DELT/weights/osaconservation-202411150910-yolov5s-new_version-4_frames-val\u001b[0m\n"
          ]
        }
      ]
    },
    {
      "cell_type": "markdown",
      "source": [
        "# Osaconservation (con algunos subsets de Arribada2023) - Todos los frames"
      ],
      "metadata": {
        "id": "MW-mU6-3KwuU"
      }
    },
    {
      "cell_type": "code",
      "source": [
        "model_v = 'osaconservation-202411150936-yolov5s-new_version-1_frames'\n",
        "weigths_path = '/content/drive/MyDrive/UOC/DELT/weights/'+model_v+'/weights/best.pt'\n",
        "\n",
        "project_name = model_v + '-val'\n",
        "project_folder = '/content/drive/MyDrive/UOC/DELT/weights'\n",
        "\n",
        "# Entrenado con ['PreArribada','105FTASK','111FTASK','121FTASK','124FTASK','103FTASK']\n",
        "\n",
        "!python val.py --data data/DELT.yaml --weights {weigths_path} --project {project_folder} --name {project_name}"
      ],
      "metadata": {
        "colab": {
          "base_uri": "https://localhost:8080/"
        },
        "id": "fpcECAz2LI_5",
        "outputId": "87fb2163-5754-4144-d7cd-9d5977c76e72"
      },
      "execution_count": null,
      "outputs": [
        {
          "output_type": "stream",
          "name": "stdout",
          "text": [
            "\u001b[34m\u001b[1mval: \u001b[0mdata=data/DELT.yaml, weights=['/content/drive/MyDrive/UOC/DELT/weights/osaconservation-202411150936-yolov5s-new_version-1_frames/weights/best.pt'], batch_size=32, imgsz=640, conf_thres=0.001, iou_thres=0.6, max_det=300, task=val, device=, workers=8, single_cls=False, augment=False, verbose=True, save_txt=True, save_hybrid=False, save_conf=True, save_json=False, project=/content/drive/MyDrive/UOC/DELT/weights, name=osaconservation-202411150936-yolov5s-new_version-1_frames-val, exist_ok=False, half=False, dnn=False\n",
            "YOLOv5 🚀 v7.0-383-g1435a8ee Python-3.10.12 torch-2.5.0+cu121 CUDA:0 (Tesla T4, 15102MiB)\n",
            "\n",
            "Fusing layers... \n",
            "Model summary: 157 layers, 7012822 parameters, 0 gradients, 15.8 GFLOPs\n",
            "\u001b[34m\u001b[1mval: \u001b[0mScanning /content/datasets/DELT/labels/val... 1980 images, 1307 backgrounds, 0 corrupt: 100% 3287/3287 [00:01<00:00, 2062.45it/s]\n",
            "\u001b[34m\u001b[1mval: \u001b[0mNew cache created: /content/datasets/DELT/labels/val.cache\n",
            "                 Class     Images  Instances          P          R      mAP50   mAP50-95: 100% 103/103 [07:56<00:00,  4.63s/it]\n",
            "                   all       3287       9061      0.936      0.891      0.935      0.673\n",
            "Speed: 0.2ms pre-process, 6.4ms inference, 1.9ms NMS per image at shape (32, 3, 640, 640)\n",
            "Results saved to \u001b[1m/content/drive/MyDrive/UOC/DELT/weights/osaconservation-202411150936-yolov5s-new_version-1_frames-val\u001b[0m\n",
            "3143 labels saved to /content/drive/MyDrive/UOC/DELT/weights/osaconservation-202411150936-yolov5s-new_version-1_frames-val/labels\n"
          ]
        }
      ]
    },
    {
      "cell_type": "markdown",
      "source": [
        "# Vivemar (4 frames - 10 paciencia)"
      ],
      "metadata": {
        "id": "_HVSyaJDgfoY"
      }
    },
    {
      "cell_type": "markdown",
      "source": [
        "Con 10% de val:"
      ],
      "metadata": {
        "id": "X6aHNeVp_AdJ"
      }
    },
    {
      "cell_type": "code",
      "source": [
        "model_v = 'vivemar-202411151054-yolov5s-new_version-4_frames'\n",
        "weigths_path = '/content/drive/MyDrive/UOC/DELT/weights/'+model_v+'/weights/best.pt'\n",
        "\n",
        "project_name = model_v + '-val'\n",
        "project_folder = '/content/drive/MyDrive/UOC/DELT/weights'\n",
        "\n",
        "!python val.py --data data/DELT.yaml --weights {weigths_path} --project {project_folder} --name {project_name}"
      ],
      "metadata": {
        "colab": {
          "base_uri": "https://localhost:8080/"
        },
        "id": "JV9MMUgjguiX",
        "outputId": "5dce41e4-b62f-4677-eb67-8c4c35f27c76"
      },
      "execution_count": null,
      "outputs": [
        {
          "output_type": "stream",
          "name": "stdout",
          "text": [
            "\u001b[34m\u001b[1mval: \u001b[0mdata=data/DELT.yaml, weights=['/content/drive/MyDrive/UOC/DELT/weights/vivemar-202411151054-yolov5s-new_version-4_frames/weights/best.pt'], batch_size=32, imgsz=640, conf_thres=0.001, iou_thres=0.6, max_det=300, task=val, device=, workers=8, single_cls=False, augment=False, verbose=False, save_txt=False, save_hybrid=False, save_conf=False, save_json=False, project=/content/drive/MyDrive/UOC/DELT/weights, name=vivemar-202411151054-yolov5s-new_version-4_frames-val, exist_ok=False, half=False, dnn=False\n",
            "YOLOv5 🚀 v7.0-383-g1435a8ee Python-3.10.12 torch-2.5.0+cu121 CUDA:0 (Tesla T4, 15102MiB)\n",
            "\n",
            "Fusing layers... \n",
            "Model summary: 157 layers, 7012822 parameters, 0 gradients, 15.8 GFLOPs\n",
            "\u001b[34m\u001b[1mval: \u001b[0mScanning /content/datasets/DELT/labels/val... 2756 images, 1723 backgrounds, 0 corrupt: 100% 4479/4479 [00:02<00:00, 2005.51it/s]\n",
            "\u001b[34m\u001b[1mval: \u001b[0mNew cache created: /content/datasets/DELT/labels/val.cache\n",
            "                 Class     Images  Instances          P          R      mAP50   mAP50-95:   0% 0/140 [00:00<?, ?it/s]WARNING ⚠️ NMS time limit 2.100s exceeded\n",
            "                 Class     Images  Instances          P          R      mAP50   mAP50-95: 100% 140/140 [01:16<00:00,  1.84it/s]\n",
            "                   all       4479      11959      0.236       0.39      0.207     0.0967\n",
            "Speed: 0.2ms pre-process, 4.8ms inference, 2.1ms NMS per image at shape (32, 3, 640, 640)\n",
            "Results saved to \u001b[1m/content/drive/MyDrive/UOC/DELT/weights/vivemar-202411151054-yolov5s-new_version-4_frames-val\u001b[0m\n"
          ]
        }
      ]
    },
    {
      "cell_type": "markdown",
      "source": [
        "Con 20% en la val:"
      ],
      "metadata": {
        "id": "92mMG1_V-niz"
      }
    },
    {
      "cell_type": "code",
      "source": [
        "model_v = 'vivemar-202411151206-yolov5s-new_version-4_frames'\n",
        "weigths_path = '/content/drive/MyDrive/UOC/DELT/weights/'+model_v+'/weights/best.pt'\n",
        "\n",
        "project_name = model_v + '-val'\n",
        "project_folder = '/content/drive/MyDrive/UOC/DELT/weights'\n",
        "\n",
        "!python val.py --data data/DELT.yaml --weights {weigths_path} --project {project_folder} --name {project_name}"
      ],
      "metadata": {
        "colab": {
          "base_uri": "https://localhost:8080/"
        },
        "id": "vMmglpL2-lLv",
        "outputId": "ea470f62-d108-49d1-c29f-5d6836763b75"
      },
      "execution_count": null,
      "outputs": [
        {
          "output_type": "stream",
          "name": "stdout",
          "text": [
            "\u001b[34m\u001b[1mval: \u001b[0mdata=data/DELT.yaml, weights=['/content/drive/MyDrive/UOC/DELT/weights/vivemar-202411151206-yolov5s-new_version-4_frames/weights/best.pt'], batch_size=32, imgsz=640, conf_thres=0.001, iou_thres=0.6, max_det=300, task=val, device=, workers=8, single_cls=False, augment=False, verbose=False, save_txt=False, save_hybrid=False, save_conf=False, save_json=False, project=/content/drive/MyDrive/UOC/DELT/weights, name=vivemar-202411151206-yolov5s-new_version-4_frames-val, exist_ok=False, half=False, dnn=False\n",
            "YOLOv5 🚀 v7.0-383-g1435a8ee Python-3.10.12 torch-2.5.0+cu121 CUDA:0 (Tesla T4, 15102MiB)\n",
            "\n",
            "Fusing layers... \n",
            "Model summary: 157 layers, 7012822 parameters, 0 gradients, 15.8 GFLOPs\n",
            "\u001b[34m\u001b[1mval: \u001b[0mScanning /content/datasets/DELT/labels/val... 2756 images, 1723 backgrounds, 0 corrupt: 100% 4479/4479 [00:03<00:00, 1304.49it/s]\n",
            "\u001b[34m\u001b[1mval: \u001b[0mNew cache created: /content/datasets/DELT/labels/val.cache\n",
            "                 Class     Images  Instances          P          R      mAP50   mAP50-95: 100% 140/140 [01:14<00:00,  1.87it/s]\n",
            "                   all       4479      11959       0.19      0.408      0.175     0.0823\n",
            "Speed: 0.2ms pre-process, 4.8ms inference, 2.0ms NMS per image at shape (32, 3, 640, 640)\n",
            "Results saved to \u001b[1m/content/drive/MyDrive/UOC/DELT/weights/vivemar-202411151206-yolov5s-new_version-4_frames-val\u001b[0m\n"
          ]
        }
      ]
    },
    {
      "cell_type": "markdown",
      "source": [
        "# Youtube (4 frames - 10 paciencia)"
      ],
      "metadata": {
        "id": "e0o-6nwOowAs"
      }
    },
    {
      "cell_type": "code",
      "source": [
        "model_v = 'youtube-202411151126-yolov5s-new_version-4_frames'\n",
        "weigths_path = '/content/drive/MyDrive/UOC/DELT/weights/'+model_v+'/weights/best.pt'\n",
        "\n",
        "project_name = model_v + '-val'\n",
        "project_folder = '/content/drive/MyDrive/UOC/DELT/weights'\n",
        "\n",
        "!python val.py --data data/DELT.yaml --weights {weigths_path} --project {project_folder} --name {project_name}"
      ],
      "metadata": {
        "colab": {
          "base_uri": "https://localhost:8080/"
        },
        "id": "0qHF1sHNoy6a",
        "outputId": "0ef13e5c-ecbc-4baf-fed1-7228ed5799a0"
      },
      "execution_count": null,
      "outputs": [
        {
          "output_type": "stream",
          "name": "stdout",
          "text": [
            "\u001b[34m\u001b[1mval: \u001b[0mdata=data/DELT.yaml, weights=['/content/drive/MyDrive/UOC/DELT/weights/youtube-202411151126-yolov5s-new_version-4_frames/weights/best.pt'], batch_size=32, imgsz=640, conf_thres=0.001, iou_thres=0.6, max_det=300, task=val, device=, workers=8, single_cls=False, augment=False, verbose=False, save_txt=False, save_hybrid=False, save_conf=False, save_json=False, project=/content/drive/MyDrive/UOC/DELT/weights, name=youtube-202411151126-yolov5s-new_version-4_frames-val, exist_ok=False, half=False, dnn=False\n",
            "YOLOv5 🚀 v7.0-383-g1435a8ee Python-3.10.12 torch-2.5.0+cu121 CUDA:0 (Tesla T4, 15102MiB)\n",
            "\n",
            "Fusing layers... \n",
            "Model summary: 157 layers, 7012822 parameters, 0 gradients, 15.8 GFLOPs\n",
            "\u001b[34m\u001b[1mval: \u001b[0mScanning /content/datasets/DELT/labels/val... 2756 images, 1723 backgrounds, 0 corrupt: 100% 4479/4479 [00:02<00:00, 1856.70it/s]\n",
            "\u001b[34m\u001b[1mval: \u001b[0mNew cache created: /content/datasets/DELT/labels/val.cache\n",
            "                 Class     Images  Instances          P          R      mAP50   mAP50-95:   0% 0/140 [00:00<?, ?it/s]WARNING ⚠️ NMS time limit 2.100s exceeded\n",
            "                 Class     Images  Instances          P          R      mAP50   mAP50-95: 100% 140/140 [01:20<00:00,  1.74it/s]\n",
            "                   all       4479      11959      0.859      0.798       0.84        0.4\n",
            "Speed: 0.2ms pre-process, 4.8ms inference, 2.3ms NMS per image at shape (32, 3, 640, 640)\n",
            "Results saved to \u001b[1m/content/drive/MyDrive/UOC/DELT/weights/youtube-202411151126-yolov5s-new_version-4_frames-val\u001b[0m\n"
          ]
        }
      ]
    },
    {
      "cell_type": "markdown",
      "source": [
        "# Bahamas (full resolution)"
      ],
      "metadata": {
        "id": "_Uzp18vF3fO1"
      }
    },
    {
      "cell_type": "code",
      "source": [
        "model_v = 'bahamas-202411241210-yolov5s-new_version-1_frames'\n",
        "weigths_path = '/content/drive/MyDrive/UOC/DELT/weights/'+model_v+'/weights/best.pt'\n",
        "\n",
        "project_name = model_v + '-val'\n",
        "project_folder = '/content/drive/MyDrive/UOC/DELT/weights'\n",
        "\n",
        "!python val.py --data data/DELT.yaml --weights {weigths_path} --project {project_folder} --name {project_name}"
      ],
      "metadata": {
        "colab": {
          "base_uri": "https://localhost:8080/"
        },
        "id": "eTub1YaX3e2n",
        "outputId": "9d1e3cb7-0aea-47fb-99a7-5898f1662b03"
      },
      "execution_count": null,
      "outputs": [
        {
          "output_type": "stream",
          "name": "stdout",
          "text": [
            "\u001b[34m\u001b[1mval: \u001b[0mdata=data/DELT.yaml, weights=['/content/drive/MyDrive/UOC/DELT/weights/bahamas-202411241210-yolov5s-new_version-1_frames/weights/best.pt'], batch_size=32, imgsz=640, conf_thres=0.001, iou_thres=0.6, max_det=300, task=val, device=, workers=8, single_cls=False, augment=False, verbose=False, save_txt=False, save_hybrid=False, save_conf=False, save_json=False, project=/content/drive/MyDrive/UOC/DELT/weights, name=bahamas-202411241210-yolov5s-new_version-1_frames-val, exist_ok=False, half=False, dnn=False\n",
            "YOLOv5 🚀 v7.0-387-g4c904ac7 Python-3.10.12 torch-2.5.1+cu121 CUDA:0 (Tesla T4, 15102MiB)\n",
            "\n",
            "Fusing layers... \n",
            "Model summary: 157 layers, 7012822 parameters, 0 gradients, 15.8 GFLOPs\n",
            "\u001b[34m\u001b[1mval: \u001b[0mScanning /content/datasets/DELT/labels/val... 2756 images, 1723 backgrounds, 0 corrupt: 100% 4479/4479 [00:02<00:00, 2002.07it/s]\n",
            "\u001b[34m\u001b[1mval: \u001b[0mNew cache created: /content/datasets/DELT/labels/val.cache\n",
            "                 Class     Images  Instances          P          R      mAP50   mAP50-95:   0% 0/140 [00:00<?, ?it/s]WARNING ⚠️ NMS time limit 2.100s exceeded\n",
            "                 Class     Images  Instances          P          R      mAP50   mAP50-95: 100% 140/140 [01:13<00:00,  1.89it/s]\n",
            "                   all       4479      11959     0.0288      0.758     0.0741     0.0184\n",
            "Speed: 0.2ms pre-process, 4.8ms inference, 2.3ms NMS per image at shape (32, 3, 640, 640)\n",
            "Results saved to \u001b[1m/content/drive/MyDrive/UOC/DELT/weights/bahamas-202411241210-yolov5s-new_version-1_frames-val\u001b[0m\n"
          ]
        }
      ]
    },
    {
      "cell_type": "markdown",
      "source": [
        "# Bahamas (talla S, 70 epocas, menor res)"
      ],
      "metadata": {
        "id": "HttM3s4OX_05"
      }
    },
    {
      "cell_type": "code",
      "source": [
        "model_v = 'bahamas-202411250923-yolov5s-new_version-1_frames'\n",
        "weigths_path = '/content/drive/MyDrive/UOC/DELT/weights/'+model_v+'/weights/best.pt'\n",
        "\n",
        "project_name = model_v + '-val'\n",
        "project_folder = '/content/drive/MyDrive/UOC/DELT/weights'\n",
        "\n",
        "!python val.py --data data/DELT.yaml --weights {weigths_path} --project {project_folder} --name {project_name}"
      ],
      "metadata": {
        "colab": {
          "base_uri": "https://localhost:8080/"
        },
        "id": "3faGJnT8X_YU",
        "outputId": "4bc630da-d9df-45fb-b267-2e3a4df7b240"
      },
      "execution_count": null,
      "outputs": [
        {
          "output_type": "stream",
          "name": "stdout",
          "text": [
            "\u001b[34m\u001b[1mval: \u001b[0mdata=data/DELT.yaml, weights=['/content/drive/MyDrive/UOC/DELT/weights/bahamas-202411250923-yolov5s-new_version-1_frames/weights/best.pt'], batch_size=32, imgsz=640, conf_thres=0.001, iou_thres=0.6, max_det=300, task=val, device=, workers=8, single_cls=False, augment=False, verbose=False, save_txt=False, save_hybrid=False, save_conf=False, save_json=False, project=/content/drive/MyDrive/UOC/DELT/weights, name=bahamas-202411250923-yolov5s-new_version-1_frames-val, exist_ok=False, half=False, dnn=False\n",
            "YOLOv5 🚀 v7.0-388-g882c35fc Python-3.10.12 torch-2.5.1+cu121 CUDA:0 (Tesla T4, 15102MiB)\n",
            "\n",
            "Fusing layers... \n",
            "Model summary: 157 layers, 7012822 parameters, 0 gradients, 15.8 GFLOPs\n",
            "\u001b[34m\u001b[1mval: \u001b[0mScanning /content/datasets/DELT/labels/val... 2756 images, 1723 backgrounds, 0 corrupt: 100% 4479/4479 [00:03<00:00, 1475.20it/s]\n",
            "\u001b[34m\u001b[1mval: \u001b[0mNew cache created: /content/datasets/DELT/labels/val.cache\n",
            "                 Class     Images  Instances          P          R      mAP50   mAP50-95: 100% 140/140 [01:19<00:00,  1.77it/s]\n",
            "                   all       4479      11959     0.0457      0.717     0.0816     0.0201\n",
            "Speed: 0.3ms pre-process, 4.8ms inference, 1.9ms NMS per image at shape (32, 3, 640, 640)\n",
            "Results saved to \u001b[1m/content/drive/MyDrive/UOC/DELT/weights/bahamas-202411250923-yolov5s-new_version-1_frames-val\u001b[0m\n"
          ]
        }
      ]
    },
    {
      "cell_type": "markdown",
      "source": [
        "# Bahamas (talla S, más de 100 epocas, low res)"
      ],
      "metadata": {
        "id": "F-pd9bkcb0fU"
      }
    },
    {
      "cell_type": "code",
      "source": [
        "model_v = 'bahamas-202411271246-yolov5s-new_version-1_frames'\n",
        "weigths_path = '/content/drive/MyDrive/UOC/DELT/weights/'+model_v+'/weights/best.pt'\n",
        "\n",
        "project_name = model_v + '-val'\n",
        "project_folder = '/content/drive/MyDrive/UOC/DELT/weights'\n",
        "\n",
        "!python val.py --data data/DELT.yaml --weights {weigths_path} --project {project_folder} --name {project_name}"
      ],
      "metadata": {
        "colab": {
          "base_uri": "https://localhost:8080/"
        },
        "id": "yib_3c2lbvfw",
        "outputId": "3bcc48c1-158b-4a7c-90ad-ea305d40ceef"
      },
      "execution_count": null,
      "outputs": [
        {
          "output_type": "stream",
          "name": "stdout",
          "text": [
            "\u001b[34m\u001b[1mval: \u001b[0mdata=data/DELT.yaml, weights=['/content/drive/MyDrive/UOC/DELT/weights/bahamas-202411271246-yolov5s-new_version-1_frames/weights/best.pt'], batch_size=32, imgsz=640, conf_thres=0.001, iou_thres=0.6, max_det=300, task=val, device=, workers=8, single_cls=False, augment=False, verbose=False, save_txt=False, save_hybrid=False, save_conf=False, save_json=False, project=/content/drive/MyDrive/UOC/DELT/weights, name=bahamas-202411271246-yolov5s-new_version-1_frames-val, exist_ok=False, half=False, dnn=False\n",
            "YOLOv5 🚀 v7.0-388-g882c35fc Python-3.10.12 torch-2.5.1+cu121 CUDA:0 (Tesla T4, 15102MiB)\n",
            "\n",
            "Fusing layers... \n",
            "Model summary: 157 layers, 7012822 parameters, 0 gradients, 15.8 GFLOPs\n",
            "\u001b[34m\u001b[1mval: \u001b[0mScanning /content/datasets/DELT/labels/val... 2756 images, 1723 backgrounds, 0 corrupt: 100% 4479/4479 [00:04<00:00, 1042.54it/s]\n",
            "\u001b[34m\u001b[1mval: \u001b[0mNew cache created: /content/datasets/DELT/labels/val.cache\n",
            "                 Class     Images  Instances          P          R      mAP50   mAP50-95: 100% 140/140 [01:11<00:00,  1.95it/s]\n",
            "                   all       4479      11959      0.213      0.216      0.103     0.0181\n",
            "Speed: 0.2ms pre-process, 4.8ms inference, 2.0ms NMS per image at shape (32, 3, 640, 640)\n",
            "Results saved to \u001b[1m/content/drive/MyDrive/UOC/DELT/weights/bahamas-202411271246-yolov5s-new_version-1_frames-val\u001b[0m\n"
          ]
        }
      ]
    },
    {
      "cell_type": "markdown",
      "source": [
        "# Bahamas (menor resolución, talla L, 150 epocas)"
      ],
      "metadata": {
        "id": "aJv00f_00BYI"
      }
    },
    {
      "cell_type": "code",
      "source": [
        "model_v = 'bahamas-202411251318-yolov5l-new_version-1_frames'\n",
        "weigths_path = '/content/drive/MyDrive/UOC/DELT/weights/'+model_v+'/weights/best.pt'\n",
        "\n",
        "project_name = model_v + '-val'\n",
        "project_folder = '/content/drive/MyDrive/UOC/DELT/weights'\n",
        "\n",
        "!python val.py --data data/DELT.yaml --weights {weigths_path} --project {project_folder} --name {project_name}"
      ],
      "metadata": {
        "colab": {
          "base_uri": "https://localhost:8080/"
        },
        "id": "LTHEgQKiz_9m",
        "outputId": "36395f44-3504-4aec-af9d-82491a48123a"
      },
      "execution_count": null,
      "outputs": [
        {
          "output_type": "stream",
          "name": "stdout",
          "text": [
            "\u001b[34m\u001b[1mval: \u001b[0mdata=data/DELT.yaml, weights=['/content/drive/MyDrive/UOC/DELT/weights/bahamas-202411251318-yolov5l-new_version-1_frames/weights/best.pt'], batch_size=32, imgsz=640, conf_thres=0.001, iou_thres=0.6, max_det=300, task=val, device=, workers=8, single_cls=False, augment=False, verbose=False, save_txt=False, save_hybrid=False, save_conf=False, save_json=False, project=/content/drive/MyDrive/UOC/DELT/weights, name=bahamas-202411251318-yolov5l-new_version-1_frames-val, exist_ok=False, half=False, dnn=False\n",
            "YOLOv5 🚀 v7.0-388-g882c35fc Python-3.10.12 torch-2.5.1+cu121 CUDA:0 (Tesla T4, 15102MiB)\n",
            "\n",
            "Fusing layers... \n",
            "Model summary: 267 layers, 46108278 parameters, 0 gradients, 107.6 GFLOPs\n",
            "\u001b[34m\u001b[1mval: \u001b[0mScanning /content/datasets/DELT/labels/val.cache... 2756 images, 1723 backgrounds, 0 corrupt: 100% 4479/4479 [00:00<?, ?it/s]\n",
            "                 Class     Images  Instances          P          R      mAP50   mAP50-95: 100% 140/140 [02:19<00:00,  1.00it/s]\n",
            "                   all       4479      11959     0.0389      0.397     0.0403    0.00874\n",
            "Speed: 0.2ms pre-process, 22.0ms inference, 1.4ms NMS per image at shape (32, 3, 640, 640)\n",
            "Results saved to \u001b[1m/content/drive/MyDrive/UOC/DELT/weights/bahamas-202411251318-yolov5l-new_version-1_frames-val2\u001b[0m\n"
          ]
        }
      ]
    },
    {
      "cell_type": "markdown",
      "source": [
        "# Bahamas (menor resolución, talla L, 138 epocas - early stopped)"
      ],
      "metadata": {
        "id": "jAk9t2g20TQC"
      }
    },
    {
      "cell_type": "code",
      "source": [
        "model_v = 'bahamas-202411252036-yolov5l-new_version-1_frames'\n",
        "weigths_path = '/content/drive/MyDrive/UOC/DELT/weights/'+model_v+'/weights/best.pt'\n",
        "\n",
        "project_name = model_v + '-val'\n",
        "project_folder = '/content/drive/MyDrive/UOC/DELT/weights'\n",
        "\n",
        "!python val.py --data data/DELT.yaml --weights {weigths_path} --project {project_folder} --name {project_name}"
      ],
      "metadata": {
        "colab": {
          "base_uri": "https://localhost:8080/"
        },
        "id": "UuK0dXy7z_He",
        "outputId": "162f250b-0ab0-4cbc-e85f-ef26ccce7a11"
      },
      "execution_count": null,
      "outputs": [
        {
          "output_type": "stream",
          "name": "stdout",
          "text": [
            "\u001b[34m\u001b[1mval: \u001b[0mdata=data/DELT.yaml, weights=['/content/drive/MyDrive/UOC/DELT/weights/bahamas-202411252036-yolov5l-new_version-1_frames/weights/best.pt'], batch_size=32, imgsz=640, conf_thres=0.001, iou_thres=0.6, max_det=300, task=val, device=, workers=8, single_cls=False, augment=False, verbose=False, save_txt=False, save_hybrid=False, save_conf=False, save_json=False, project=/content/drive/MyDrive/UOC/DELT/weights, name=bahamas-202411252036-yolov5l-new_version-1_frames-val, exist_ok=False, half=False, dnn=False\n",
            "YOLOv5 🚀 v7.0-388-g882c35fc Python-3.10.12 torch-2.5.1+cu121 CUDA:0 (Tesla T4, 15102MiB)\n",
            "\n",
            "Fusing layers... \n",
            "Model summary: 267 layers, 46108278 parameters, 0 gradients, 107.6 GFLOPs\n",
            "\u001b[34m\u001b[1mval: \u001b[0mScanning /content/datasets/DELT/labels/val.cache... 2756 images, 1723 backgrounds, 0 corrupt: 100% 4479/4479 [00:00<?, ?it/s]\n",
            "                 Class     Images  Instances          P          R      mAP50   mAP50-95: 100% 140/140 [02:28<00:00,  1.06s/it]\n",
            "                   all       4479      11959      0.257      0.173      0.151     0.0371\n",
            "Speed: 0.2ms pre-process, 22.4ms inference, 1.4ms NMS per image at shape (32, 3, 640, 640)\n",
            "Results saved to \u001b[1m/content/drive/MyDrive/UOC/DELT/weights/bahamas-202411252036-yolov5l-new_version-1_frames-val\u001b[0m\n"
          ]
        }
      ]
    },
    {
      "cell_type": "markdown",
      "source": [
        "# Vivemar (todos los frames, más epocas)"
      ],
      "metadata": {
        "id": "gw_IwhlLQdPD"
      }
    },
    {
      "cell_type": "code",
      "source": [
        "model_v = 'vivemar-202411280937-yolov5s-new_version-1_frames'\n",
        "weigths_path = '/content/drive/MyDrive/UOC/DELT/weights/'+model_v+'/weights/best.pt'\n",
        "\n",
        "project_name = model_v + '-val'\n",
        "project_folder = '/content/drive/MyDrive/UOC/DELT/weights'\n",
        "\n",
        "!python val.py --data data/DELT.yaml --weights {weigths_path} --project {project_folder} --name {project_name}"
      ],
      "metadata": {
        "colab": {
          "base_uri": "https://localhost:8080/"
        },
        "id": "hf4rUb3tQg_I",
        "outputId": "ba2f5285-6c6e-4444-9873-208d1bb2defe"
      },
      "execution_count": null,
      "outputs": [
        {
          "output_type": "stream",
          "name": "stdout",
          "text": [
            "\u001b[34m\u001b[1mval: \u001b[0mdata=data/DELT.yaml, weights=['/content/drive/MyDrive/UOC/DELT/weights/vivemar-202411280937-yolov5s-new_version-1_frames/weights/best.pt'], batch_size=32, imgsz=640, conf_thres=0.001, iou_thres=0.6, max_det=300, task=val, device=, workers=8, single_cls=False, augment=False, verbose=False, save_txt=False, save_hybrid=False, save_conf=False, save_json=False, project=/content/drive/MyDrive/UOC/DELT/weights, name=vivemar-202411280937-yolov5s-new_version-1_frames-val, exist_ok=False, half=False, dnn=False\n",
            "YOLOv5 🚀 v7.0-388-g882c35fc Python-3.10.12 torch-2.5.1+cu121 CUDA:0 (Tesla T4, 15102MiB)\n",
            "\n",
            "Fusing layers... \n",
            "Model summary: 157 layers, 7012822 parameters, 0 gradients, 15.8 GFLOPs\n",
            "\u001b[34m\u001b[1mval: \u001b[0mScanning /content/datasets/DELT/labels/val... 2756 images, 1723 backgrounds, 0 corrupt: 100% 4479/4479 [00:04<00:00, 957.54it/s]\n",
            "\u001b[34m\u001b[1mval: \u001b[0mNew cache created: /content/datasets/DELT/labels/val.cache\n",
            "                 Class     Images  Instances          P          R      mAP50   mAP50-95: 100% 140/140 [01:11<00:00,  1.95it/s]\n",
            "                   all       4479      11959       0.33      0.279      0.198     0.0708\n",
            "Speed: 0.2ms pre-process, 5.0ms inference, 1.9ms NMS per image at shape (32, 3, 640, 640)\n",
            "Results saved to \u001b[1m/content/drive/MyDrive/UOC/DELT/weights/vivemar-202411280937-yolov5s-new_version-1_frames-val\u001b[0m\n"
          ]
        }
      ]
    },
    {
      "cell_type": "markdown",
      "source": [
        "# Vivemar (frame=2)"
      ],
      "metadata": {
        "id": "j_mPTo6RQkx8"
      }
    },
    {
      "cell_type": "code",
      "source": [
        "model_v = 'vivemar-202411281030-yolov5s-new_version-2_frames'\n",
        "weigths_path = '/content/drive/MyDrive/UOC/DELT/weights/'+model_v+'/weights/best.pt'\n",
        "\n",
        "project_name = model_v + '-val'\n",
        "project_folder = '/content/drive/MyDrive/UOC/DELT/weights'\n",
        "\n",
        "!python val.py --data data/DELT.yaml --weights {weigths_path} --project {project_folder} --name {project_name}"
      ],
      "metadata": {
        "colab": {
          "base_uri": "https://localhost:8080/"
        },
        "id": "t4GXlCoPQkQO",
        "outputId": "7288d68d-f1e8-4f6f-ec23-80c3457e420b"
      },
      "execution_count": null,
      "outputs": [
        {
          "output_type": "stream",
          "name": "stdout",
          "text": [
            "\u001b[34m\u001b[1mval: \u001b[0mdata=data/DELT.yaml, weights=['/content/drive/MyDrive/UOC/DELT/weights/vivemar-202411281030-yolov5s-new_version-2_frames/weights/best.pt'], batch_size=32, imgsz=640, conf_thres=0.001, iou_thres=0.6, max_det=300, task=val, device=, workers=8, single_cls=False, augment=False, verbose=False, save_txt=False, save_hybrid=False, save_conf=False, save_json=False, project=/content/drive/MyDrive/UOC/DELT/weights, name=vivemar-202411281030-yolov5s-new_version-2_frames-val, exist_ok=False, half=False, dnn=False\n",
            "YOLOv5 🚀 v7.0-388-g882c35fc Python-3.10.12 torch-2.5.1+cu121 CUDA:0 (Tesla T4, 15102MiB)\n",
            "\n",
            "Fusing layers... \n",
            "Model summary: 157 layers, 7012822 parameters, 0 gradients, 15.8 GFLOPs\n",
            "\u001b[34m\u001b[1mval: \u001b[0mScanning /content/datasets/DELT/labels/val.cache... 2756 images, 1723 backgrounds, 0 corrupt: 100% 4479/4479 [00:00<?, ?it/s]\n",
            "                 Class     Images  Instances          P          R      mAP50   mAP50-95: 100% 140/140 [01:13<00:00,  1.89it/s]\n",
            "                   all       4479      11959      0.322      0.202      0.168     0.0651\n",
            "Speed: 0.2ms pre-process, 5.1ms inference, 1.8ms NMS per image at shape (32, 3, 640, 640)\n",
            "Results saved to \u001b[1m/content/drive/MyDrive/UOC/DELT/weights/vivemar-202411281030-yolov5s-new_version-2_frames-val\u001b[0m\n"
          ]
        }
      ]
    },
    {
      "cell_type": "markdown",
      "source": [
        "# Florida State (más epocas)"
      ],
      "metadata": {
        "id": "hRlEufQwQsIJ"
      }
    },
    {
      "cell_type": "code",
      "source": [
        "model_v = 'floridaState-202411281131-yolov5s-new_version-1_frames'\n",
        "weigths_path = '/content/drive/MyDrive/UOC/DELT/weights/'+model_v+'/weights/best.pt'\n",
        "\n",
        "project_name = model_v + '-val'\n",
        "project_folder = '/content/drive/MyDrive/UOC/DELT/weights'\n",
        "\n",
        "!python val.py --data data/DELT.yaml --weights {weigths_path} --project {project_folder} --name {project_name}"
      ],
      "metadata": {
        "colab": {
          "base_uri": "https://localhost:8080/"
        },
        "id": "gd9cK5b9Qqe5",
        "outputId": "9743fc84-6168-4bfd-9216-e95f80a60a55"
      },
      "execution_count": null,
      "outputs": [
        {
          "output_type": "stream",
          "name": "stdout",
          "text": [
            "\u001b[34m\u001b[1mval: \u001b[0mdata=data/DELT.yaml, weights=['/content/drive/MyDrive/UOC/DELT/weights/floridaState-202411281131-yolov5s-new_version-1_frames/weights/best.pt'], batch_size=32, imgsz=640, conf_thres=0.001, iou_thres=0.6, max_det=300, task=val, device=, workers=8, single_cls=False, augment=False, verbose=False, save_txt=False, save_hybrid=False, save_conf=False, save_json=False, project=/content/drive/MyDrive/UOC/DELT/weights, name=floridaState-202411281131-yolov5s-new_version-1_frames-val, exist_ok=False, half=False, dnn=False\n",
            "YOLOv5 🚀 v7.0-388-g882c35fc Python-3.10.12 torch-2.5.1+cu121 CUDA:0 (Tesla T4, 15102MiB)\n",
            "\n",
            "Fusing layers... \n",
            "Model summary: 157 layers, 7012822 parameters, 0 gradients, 15.8 GFLOPs\n",
            "\u001b[34m\u001b[1mval: \u001b[0mScanning /content/datasets/DELT/labels/val.cache... 2756 images, 1723 backgrounds, 0 corrupt: 100% 4479/4479 [00:00<?, ?it/s]\n",
            "                 Class     Images  Instances          P          R      mAP50   mAP50-95:   0% 0/140 [00:00<?, ?it/s]WARNING ⚠️ NMS time limit 2.100s exceeded\n",
            "                 Class     Images  Instances          P          R      mAP50   mAP50-95: 100% 140/140 [01:11<00:00,  1.96it/s]\n",
            "                   all       4479      11959     0.0425      0.922      0.213     0.0604\n",
            "Speed: 0.2ms pre-process, 5.3ms inference, 1.9ms NMS per image at shape (32, 3, 640, 640)\n",
            "Results saved to \u001b[1m/content/drive/MyDrive/UOC/DELT/weights/floridaState-202411281131-yolov5s-new_version-1_frames-val\u001b[0m\n"
          ]
        }
      ]
    },
    {
      "cell_type": "markdown",
      "source": [
        "# Florida State (frame=2)"
      ],
      "metadata": {
        "id": "55xecLr5Qryy"
      }
    },
    {
      "cell_type": "code",
      "source": [
        "model_v = 'floridaState-202411281150-yolov5s-new_version-2_frames'\n",
        "weigths_path = '/content/drive/MyDrive/UOC/DELT/weights/'+model_v+'/weights/best.pt'\n",
        "\n",
        "project_name = model_v + '-val'\n",
        "project_folder = '/content/drive/MyDrive/UOC/DELT/weights'\n",
        "\n",
        "!python val.py --data data/DELT.yaml --weights {weigths_path} --project {project_folder} --name {project_name}"
      ],
      "metadata": {
        "colab": {
          "base_uri": "https://localhost:8080/"
        },
        "id": "iiRsCeKXQrT8",
        "outputId": "66ff4f52-74c6-42d3-c0a3-fd4962f1fed6"
      },
      "execution_count": null,
      "outputs": [
        {
          "output_type": "stream",
          "name": "stdout",
          "text": [
            "\u001b[34m\u001b[1mval: \u001b[0mdata=data/DELT.yaml, weights=['/content/drive/MyDrive/UOC/DELT/weights/floridaState-202411281150-yolov5s-new_version-2_frames/weights/best.pt'], batch_size=32, imgsz=640, conf_thres=0.001, iou_thres=0.6, max_det=300, task=val, device=, workers=8, single_cls=False, augment=False, verbose=False, save_txt=False, save_hybrid=False, save_conf=False, save_json=False, project=/content/drive/MyDrive/UOC/DELT/weights, name=floridaState-202411281150-yolov5s-new_version-2_frames-val, exist_ok=False, half=False, dnn=False\n",
            "YOLOv5 🚀 v7.0-388-g882c35fc Python-3.10.12 torch-2.5.1+cu121 CUDA:0 (Tesla T4, 15102MiB)\n",
            "\n",
            "Fusing layers... \n",
            "Model summary: 157 layers, 7012822 parameters, 0 gradients, 15.8 GFLOPs\n",
            "\u001b[34m\u001b[1mval: \u001b[0mScanning /content/datasets/DELT/labels/val.cache... 2756 images, 1723 backgrounds, 0 corrupt: 100% 4479/4479 [00:00<?, ?it/s]\n",
            "                 Class     Images  Instances          P          R      mAP50   mAP50-95: 100% 140/140 [01:13<00:00,  1.91it/s]\n",
            "                   all       4479      11959     0.0195      0.818     0.0635     0.0141\n",
            "Speed: 0.3ms pre-process, 5.3ms inference, 1.8ms NMS per image at shape (32, 3, 640, 640)\n",
            "Results saved to \u001b[1m/content/drive/MyDrive/UOC/DELT/weights/floridaState-202411281150-yolov5s-new_version-2_frames-val\u001b[0m\n"
          ]
        }
      ]
    },
    {
      "cell_type": "markdown",
      "source": [
        "# YouTube (más epocas)"
      ],
      "metadata": {
        "id": "bAlBC4FuQ3XF"
      }
    },
    {
      "cell_type": "code",
      "source": [
        "model_v = 'youtubenew-202411281209-yolov5s-new_version-1_frames'\n",
        "weigths_path = '/content/drive/MyDrive/UOC/DELT/weights/'+model_v+'/weights/best.pt'\n",
        "\n",
        "project_name = model_v + '-val'\n",
        "project_folder = '/content/drive/MyDrive/UOC/DELT/weights'\n",
        "\n",
        "!python val.py --data data/DELT.yaml --weights {weigths_path} --project {project_folder} --name {project_name}"
      ],
      "metadata": {
        "colab": {
          "base_uri": "https://localhost:8080/"
        },
        "id": "9gZAB1cbQ2P3",
        "outputId": "ac8ac546-cbed-4390-cb71-edfc4ce542ba"
      },
      "execution_count": null,
      "outputs": [
        {
          "output_type": "stream",
          "name": "stdout",
          "text": [
            "\u001b[34m\u001b[1mval: \u001b[0mdata=data/DELT.yaml, weights=['/content/drive/MyDrive/UOC/DELT/weights/youtubenew-202411281209-yolov5s-new_version-1_frames/weights/best.pt'], batch_size=32, imgsz=640, conf_thres=0.001, iou_thres=0.6, max_det=300, task=val, device=, workers=8, single_cls=False, augment=False, verbose=False, save_txt=False, save_hybrid=False, save_conf=False, save_json=False, project=/content/drive/MyDrive/UOC/DELT/weights, name=youtubenew-202411281209-yolov5s-new_version-1_frames-val, exist_ok=False, half=False, dnn=False\n",
            "YOLOv5 🚀 v7.0-388-g882c35fc Python-3.10.12 torch-2.5.1+cu121 CUDA:0 (Tesla T4, 15102MiB)\n",
            "\n",
            "Fusing layers... \n",
            "Model summary: 157 layers, 7012822 parameters, 0 gradients, 15.8 GFLOPs\n",
            "\u001b[34m\u001b[1mval: \u001b[0mScanning /content/datasets/DELT/labels/val.cache... 2756 images, 1723 backgrounds, 0 corrupt: 100% 4479/4479 [00:00<?, ?it/s]\n",
            "                 Class     Images  Instances          P          R      mAP50   mAP50-95: 100% 140/140 [01:19<00:00,  1.75it/s]\n",
            "                   all       4479      11959      0.845      0.802      0.823      0.374\n",
            "Speed: 0.3ms pre-process, 5.4ms inference, 1.8ms NMS per image at shape (32, 3, 640, 640)\n",
            "Results saved to \u001b[1m/content/drive/MyDrive/UOC/DELT/weights/youtubenew-202411281209-yolov5s-new_version-1_frames-val\u001b[0m\n"
          ]
        }
      ]
    },
    {
      "cell_type": "markdown",
      "source": [
        "# YouTube (frame=2)"
      ],
      "metadata": {
        "id": "GAaQRw9BQ6Nz"
      }
    },
    {
      "cell_type": "code",
      "source": [
        "model_v = 'youtubenew-202411281329-yolov5s-new_version-2_frames'\n",
        "weigths_path = '/content/drive/MyDrive/UOC/DELT/weights/'+model_v+'/weights/best.pt'\n",
        "\n",
        "project_name = model_v + '-val'\n",
        "project_folder = '/content/drive/MyDrive/UOC/DELT/weights'\n",
        "\n",
        "!python val.py --data data/DELT.yaml --weights {weigths_path} --project {project_folder} --name {project_name}"
      ],
      "metadata": {
        "colab": {
          "base_uri": "https://localhost:8080/"
        },
        "id": "9v36-0zPQ234",
        "outputId": "61ae0581-ef1c-444f-cbfc-d16a8e36278f"
      },
      "execution_count": null,
      "outputs": [
        {
          "output_type": "stream",
          "name": "stdout",
          "text": [
            "\u001b[34m\u001b[1mval: \u001b[0mdata=data/DELT.yaml, weights=['/content/drive/MyDrive/UOC/DELT/weights/youtubenew-202411281329-yolov5s-new_version-2_frames/weights/best.pt'], batch_size=32, imgsz=640, conf_thres=0.001, iou_thres=0.6, max_det=300, task=val, device=, workers=8, single_cls=False, augment=False, verbose=False, save_txt=False, save_hybrid=False, save_conf=False, save_json=False, project=/content/drive/MyDrive/UOC/DELT/weights, name=youtubenew-202411281329-yolov5s-new_version-2_frames-val, exist_ok=False, half=False, dnn=False\n",
            "YOLOv5 🚀 v7.0-388-g882c35fc Python-3.10.12 torch-2.5.1+cu121 CUDA:0 (Tesla T4, 15102MiB)\n",
            "\n",
            "Fusing layers... \n",
            "Model summary: 157 layers, 7012822 parameters, 0 gradients, 15.8 GFLOPs\n",
            "\u001b[34m\u001b[1mval: \u001b[0mScanning /content/datasets/DELT/labels/val.cache... 2756 images, 1723 backgrounds, 0 corrupt: 100% 4479/4479 [00:00<?, ?it/s]\n",
            "                 Class     Images  Instances          P          R      mAP50   mAP50-95: 100% 140/140 [01:15<00:00,  1.86it/s]\n",
            "                   all       4479      11959      0.756      0.786      0.746      0.267\n",
            "Speed: 0.2ms pre-process, 5.5ms inference, 1.7ms NMS per image at shape (32, 3, 640, 640)\n",
            "Results saved to \u001b[1m/content/drive/MyDrive/UOC/DELT/weights/youtubenew-202411281329-yolov5s-new_version-2_frames-val\u001b[0m\n"
          ]
        }
      ]
    },
    {
      "cell_type": "markdown",
      "source": [
        "# OSA Conservation (Experimento 1, todos los frames)"
      ],
      "metadata": {
        "id": "VnlxJK_iwDlH"
      }
    },
    {
      "cell_type": "code",
      "source": [
        "model_v = 'osaconservation-202412020839-yolov5s-new_version-1_frames'\n",
        "weigths_path = '/content/drive/MyDrive/UOC/DELT/weights/'+model_v+'/weights/best.pt'\n",
        "\n",
        "project_name = model_v + '-val'\n",
        "project_folder = '/content/drive/MyDrive/UOC/DELT/weights'\n",
        "\n",
        "# ['PreArribada','102FTASK','103FTASK','105FTASK','111FTASK','116FTASK','118FTASK','121FTASK','124FTASK']\n",
        "\n",
        "!python val.py --data data/DELT.yaml --weights {weigths_path} --project {project_folder} --name {project_name}"
      ],
      "metadata": {
        "colab": {
          "base_uri": "https://localhost:8080/"
        },
        "id": "ujWIvS9swDUr",
        "outputId": "9f206071-768a-4402-d362-de69d51348c8"
      },
      "execution_count": null,
      "outputs": [
        {
          "output_type": "stream",
          "name": "stdout",
          "text": [
            "\u001b[34m\u001b[1mval: \u001b[0mdata=data/DELT.yaml, weights=['/content/drive/MyDrive/UOC/DELT/weights/osaconservation-202412020839-yolov5s-new_version-1_frames/weights/best.pt'], batch_size=32, imgsz=640, conf_thres=0.001, iou_thres=0.6, max_det=300, task=val, device=, workers=8, single_cls=False, augment=False, verbose=False, save_txt=False, save_hybrid=False, save_conf=False, save_json=False, project=/content/drive/MyDrive/UOC/DELT/weights, name=osaconservation-202412020839-yolov5s-new_version-1_frames-val, exist_ok=False, half=False, dnn=False\n",
            "YOLOv5 🚀 v7.0-388-g882c35fc Python-3.10.12 torch-2.5.1+cu121 CUDA:0 (Tesla T4, 15102MiB)\n",
            "\n",
            "Fusing layers... \n",
            "Model summary: 157 layers, 7012822 parameters, 0 gradients, 15.8 GFLOPs\n",
            "\u001b[34m\u001b[1mval: \u001b[0mScanning /content/datasets/DELT/labels/val... 1665 images, 1177 backgrounds, 0 corrupt: 100% 2842/2842 [00:01<00:00, 1457.73it/s]\n",
            "\u001b[34m\u001b[1mval: \u001b[0mNew cache created: /content/datasets/DELT/labels/val.cache\n",
            "                 Class     Images  Instances          P          R      mAP50   mAP50-95:   0% 0/89 [00:00<?, ?it/s]WARNING ⚠️ NMS time limit 2.100s exceeded\n",
            "                 Class     Images  Instances          P          R      mAP50   mAP50-95: 100% 89/89 [00:59<00:00,  1.51it/s]\n",
            "                   all       2842       7438      0.944      0.898      0.952      0.685\n",
            "Speed: 0.2ms pre-process, 4.9ms inference, 2.4ms NMS per image at shape (32, 3, 640, 640)\n",
            "Results saved to \u001b[1m/content/drive/MyDrive/UOC/DELT/weights/osaconservation-202412020839-yolov5s-new_version-1_frames-val\u001b[0m\n"
          ]
        }
      ]
    },
    {
      "cell_type": "markdown",
      "source": [
        "# OSA Conservation (Experimento 2, todos los frames)"
      ],
      "metadata": {
        "id": "hSxHMnRDwaEw"
      }
    },
    {
      "cell_type": "code",
      "source": [
        "model_v = 'osaconservation-202412020932-yolov5s-new_version-1_frames'\n",
        "weigths_path = '/content/drive/MyDrive/UOC/DELT/weights/'+model_v+'/weights/best.pt'\n",
        "\n",
        "project_name = model_v + '-val'\n",
        "project_folder = '/content/drive/MyDrive/UOC/DELT/weights'\n",
        "\n",
        "# ['PreArribada','106FTASK','108FTASK','113FTASK','114FTASK','119FTASK','120FTASK','122FTASK','125FTASK']\n",
        "\n",
        "!python val.py --data data/DELT.yaml --weights {weigths_path} --project {project_folder} --name {project_name}"
      ],
      "metadata": {
        "colab": {
          "base_uri": "https://localhost:8080/"
        },
        "id": "I-N1b053wC8K",
        "outputId": "7816b635-7b94-4dab-a2c5-70e450b69a6b"
      },
      "execution_count": null,
      "outputs": [
        {
          "output_type": "stream",
          "name": "stdout",
          "text": [
            "\u001b[34m\u001b[1mval: \u001b[0mdata=data/DELT.yaml, weights=['/content/drive/MyDrive/UOC/DELT/weights/osaconservation-202412020932-yolov5s-new_version-1_frames/weights/best.pt'], batch_size=32, imgsz=640, conf_thres=0.001, iou_thres=0.6, max_det=300, task=val, device=, workers=8, single_cls=False, augment=False, verbose=False, save_txt=False, save_hybrid=False, save_conf=False, save_json=False, project=/content/drive/MyDrive/UOC/DELT/weights, name=osaconservation-202412020932-yolov5s-new_version-1_frames-val, exist_ok=False, half=False, dnn=False\n",
            "YOLOv5 🚀 v7.0-388-g882c35fc Python-3.10.12 torch-2.5.1+cu121 CUDA:0 (Tesla T4, 15102MiB)\n",
            "\n",
            "Fusing layers... \n",
            "Model summary: 157 layers, 7012822 parameters, 0 gradients, 15.8 GFLOPs\n",
            "\u001b[34m\u001b[1mval: \u001b[0mScanning /content/datasets/DELT/labels/val... 1408 images, 848 backgrounds, 0 corrupt: 100% 2256/2256 [00:01<00:00, 1932.51it/s]\n",
            "\u001b[34m\u001b[1mval: \u001b[0mNew cache created: /content/datasets/DELT/labels/val.cache\n",
            "                 Class     Images  Instances          P          R      mAP50   mAP50-95: 100% 71/71 [00:29<00:00,  2.37it/s]\n",
            "                   all       2256       6973      0.955      0.937      0.973      0.722\n",
            "Speed: 0.3ms pre-process, 4.7ms inference, 1.9ms NMS per image at shape (32, 3, 640, 640)\n",
            "Results saved to \u001b[1m/content/drive/MyDrive/UOC/DELT/weights/osaconservation-202412020932-yolov5s-new_version-1_frames-val\u001b[0m\n"
          ]
        }
      ]
    },
    {
      "cell_type": "markdown",
      "source": [
        "# OSA Conservation + YouTube (Talla S)"
      ],
      "metadata": {
        "id": "l6H_QWUK8xAT"
      }
    },
    {
      "cell_type": "code",
      "source": [
        "model_v = 'osaconservation-youtube-202412021450-yolov5s-new_version-1_frames'\n",
        "weigths_path = '/content/drive/MyDrive/UOC/DELT/weights/'+model_v+'/weights/best.pt'\n",
        "\n",
        "project_name = model_v + '-val'\n",
        "project_folder = '/content/drive/MyDrive/UOC/DELT/weights'\n",
        "\n",
        "# ['PreArribada','106FTASK','108FTASK','113FTASK','114FTASK','119FTASK','120FTASK','122FTASK','125FTASK']\n",
        "\n",
        "!python val.py --data data/DELT.yaml --weights {weigths_path} --project {project_folder} --name {project_name}"
      ],
      "metadata": {
        "colab": {
          "base_uri": "https://localhost:8080/"
        },
        "id": "T9BUY6T98wt0",
        "outputId": "2d0781f7-bfc5-479b-fc08-b885812da9ac"
      },
      "execution_count": null,
      "outputs": [
        {
          "output_type": "stream",
          "name": "stdout",
          "text": [
            "\u001b[34m\u001b[1mval: \u001b[0mdata=data/DELT.yaml, weights=['/content/drive/MyDrive/UOC/DELT/weights/osaconservation-youtube-202412021450-yolov5s-new_version-1_frames/weights/best.pt'], batch_size=32, imgsz=640, conf_thres=0.001, iou_thres=0.6, max_det=300, task=val, device=, workers=8, single_cls=False, augment=False, verbose=False, save_txt=False, save_hybrid=False, save_conf=False, save_json=False, project=/content/drive/MyDrive/UOC/DELT/weights, name=osaconservation-youtube-202412021450-yolov5s-new_version-1_frames-val, exist_ok=False, half=False, dnn=False\n",
            "YOLOv5 🚀 v7.0-388-g882c35fc Python-3.10.12 torch-2.5.1+cu121 CUDA:0 (Tesla T4, 15102MiB)\n",
            "\n",
            "Fusing layers... \n",
            "Model summary: 157 layers, 7012822 parameters, 0 gradients, 15.8 GFLOPs\n",
            "\u001b[34m\u001b[1mval: \u001b[0mScanning /content/datasets/DELT/labels/val... 1408 images, 848 backgrounds, 0 corrupt: 100% 2256/2256 [00:01<00:00, 1997.16it/s]\n",
            "\u001b[34m\u001b[1mval: \u001b[0mNew cache created: /content/datasets/DELT/labels/val.cache\n",
            "                 Class     Images  Instances          P          R      mAP50   mAP50-95: 100% 71/71 [00:31<00:00,  2.27it/s]\n",
            "                   all       2256       6973      0.965      0.928      0.976      0.744\n",
            "Speed: 0.3ms pre-process, 5.0ms inference, 2.1ms NMS per image at shape (32, 3, 640, 640)\n",
            "Results saved to \u001b[1m/content/drive/MyDrive/UOC/DELT/weights/osaconservation-youtube-202412021450-yolov5s-new_version-1_frames-val\u001b[0m\n"
          ]
        }
      ]
    },
    {
      "cell_type": "markdown",
      "source": [
        "# OSA Conservation + YouTube (Talla n)"
      ],
      "metadata": {
        "id": "C-NwdLJmdO6A"
      }
    },
    {
      "cell_type": "code",
      "source": [
        "model_v = 'osaconservation-youtube-202412031146-yolov5n-new_version-1_frames'\n",
        "weigths_path = '/content/drive/MyDrive/UOC/DELT/weights/'+model_v+'/weights/best.pt'\n",
        "\n",
        "project_name = model_v + '-val'\n",
        "project_folder = '/content/drive/MyDrive/UOC/DELT/weights'\n",
        "\n",
        "# ['PreArribada','106FTASK','108FTASK','113FTASK','114FTASK','119FTASK','120FTASK','122FTASK','125FTASK']\n",
        "\n",
        "!python val.py --data data/DELT.yaml --weights {weigths_path} --project {project_folder} --name {project_name}"
      ],
      "metadata": {
        "colab": {
          "base_uri": "https://localhost:8080/"
        },
        "outputId": "394b8e70-bbbd-4d7c-9610-478b38995a28",
        "id": "_3hVKqWGdO6C"
      },
      "execution_count": null,
      "outputs": [
        {
          "output_type": "stream",
          "name": "stdout",
          "text": [
            "\u001b[34m\u001b[1mval: \u001b[0mdata=data/DELT.yaml, weights=['/content/drive/MyDrive/UOC/DELT/weights/osaconservation-youtube-202412031146-yolov5n-new_version-1_frames/weights/best.pt'], batch_size=32, imgsz=640, conf_thres=0.001, iou_thres=0.6, max_det=300, task=val, device=, workers=8, single_cls=False, augment=False, verbose=False, save_txt=False, save_hybrid=False, save_conf=False, save_json=False, project=/content/drive/MyDrive/UOC/DELT/weights, name=osaconservation-youtube-202412031146-yolov5n-new_version-1_frames-val, exist_ok=False, half=False, dnn=False\n",
            "YOLOv5 🚀 v7.0-388-g882c35fc Python-3.10.12 torch-2.5.1+cu121 CUDA:0 (Tesla T4, 15102MiB)\n",
            "\n",
            "Fusing layers... \n",
            "Model summary: 157 layers, 1760518 parameters, 0 gradients, 4.1 GFLOPs\n",
            "\u001b[34m\u001b[1mval: \u001b[0mScanning /content/datasets/DELT/labels/val... 1408 images, 848 backgrounds, 0 corrupt: 100% 2256/2256 [00:01<00:00, 2044.18it/s]\n",
            "\u001b[34m\u001b[1mval: \u001b[0mNew cache created: /content/datasets/DELT/labels/val.cache\n",
            "                 Class     Images  Instances          P          R      mAP50   mAP50-95: 100% 71/71 [00:26<00:00,  2.71it/s]\n",
            "                   all       2256       6973      0.952      0.926      0.973      0.719\n",
            "Speed: 0.2ms pre-process, 2.9ms inference, 2.0ms NMS per image at shape (32, 3, 640, 640)\n",
            "Results saved to \u001b[1m/content/drive/MyDrive/UOC/DELT/weights/osaconservation-youtube-202412031146-yolov5n-new_version-1_frames-val\u001b[0m\n"
          ]
        }
      ]
    },
    {
      "cell_type": "markdown",
      "source": [
        "# OSA Conservation + YouTube (Talla M)"
      ],
      "metadata": {
        "id": "nVbtsnb1dP0F"
      }
    },
    {
      "cell_type": "code",
      "source": [
        "model_v = 'osaconservation-youtube-202412031757-yolov5m-new_version-1_frames'\n",
        "weigths_path = '/content/drive/MyDrive/UOC/DELT/weights/'+model_v+'/weights/best.pt'\n",
        "\n",
        "project_name = model_v + '-val'\n",
        "project_folder = '/content/drive/MyDrive/UOC/DELT/weights'\n",
        "\n",
        "# ['PreArribada','106FTASK','108FTASK','113FTASK','114FTASK','119FTASK','120FTASK','122FTASK','125FTASK']\n",
        "\n",
        "!python val.py --data data/DELT.yaml --weights {weigths_path} --project {project_folder} --name {project_name}"
      ],
      "metadata": {
        "colab": {
          "base_uri": "https://localhost:8080/"
        },
        "outputId": "83f9a06c-46bd-4570-fab2-f8560783c393",
        "id": "N-mgyx3VdP0m"
      },
      "execution_count": null,
      "outputs": [
        {
          "output_type": "stream",
          "name": "stdout",
          "text": [
            "\u001b[34m\u001b[1mval: \u001b[0mdata=data/DELT.yaml, weights=['/content/drive/MyDrive/UOC/DELT/weights/osaconservation-youtube-202412031757-yolov5m-new_version-1_frames/weights/best.pt'], batch_size=32, imgsz=640, conf_thres=0.001, iou_thres=0.6, max_det=300, task=val, device=, workers=8, single_cls=False, augment=False, verbose=False, save_txt=False, save_hybrid=False, save_conf=False, save_json=False, project=/content/drive/MyDrive/UOC/DELT/weights, name=osaconservation-youtube-202412031757-yolov5m-new_version-1_frames-val, exist_ok=False, half=False, dnn=False\n",
            "YOLOv5 🚀 v7.0-388-g882c35fc Python-3.10.12 torch-2.5.1+cu121 CUDA:0 (Tesla T4, 15102MiB)\n",
            "\n",
            "Fusing layers... \n",
            "Model summary: 212 layers, 20852934 parameters, 0 gradients, 47.9 GFLOPs\n",
            "\u001b[34m\u001b[1mval: \u001b[0mScanning /content/datasets/DELT/labels/val.cache... 1408 images, 848 backgrounds, 0 corrupt: 100% 2256/2256 [00:00<?, ?it/s]\n",
            "                 Class     Images  Instances          P          R      mAP50   mAP50-95: 100% 71/71 [00:39<00:00,  1.80it/s]\n",
            "                   all       2256       6973      0.953      0.941       0.98      0.757\n",
            "Speed: 0.2ms pre-process, 12.1ms inference, 1.2ms NMS per image at shape (32, 3, 640, 640)\n",
            "Results saved to \u001b[1m/content/drive/MyDrive/UOC/DELT/weights/osaconservation-youtube-202412031757-yolov5m-new_version-1_frames-val\u001b[0m\n"
          ]
        }
      ]
    },
    {
      "cell_type": "markdown",
      "source": [
        "# OSA Conservation + YouTube (Talla L)"
      ],
      "metadata": {
        "id": "evcjLo62dP8t"
      }
    },
    {
      "cell_type": "code",
      "source": [
        "model_v = 'osaconservation-youtube-202412032305-yolov5l-new_version-1_frames'\n",
        "weigths_path = '/content/drive/MyDrive/UOC/DELT/weights/'+model_v+'/weights/best.pt'\n",
        "\n",
        "project_name = model_v + '-val'\n",
        "project_folder = '/content/drive/MyDrive/UOC/DELT/weights'\n",
        "\n",
        "# ['PreArribada','106FTASK','108FTASK','113FTASK','114FTASK','119FTASK','120FTASK','122FTASK','125FTASK']\n",
        "\n",
        "!python val.py --data data/DELT.yaml --weights {weigths_path} --project {project_folder} --name {project_name}"
      ],
      "metadata": {
        "colab": {
          "base_uri": "https://localhost:8080/"
        },
        "outputId": "3612edba-453d-4d83-fc9d-23447ed93d8a",
        "id": "PcmP6dA2dP8t"
      },
      "execution_count": null,
      "outputs": [
        {
          "output_type": "stream",
          "name": "stdout",
          "text": [
            "\u001b[34m\u001b[1mval: \u001b[0mdata=data/DELT.yaml, weights=['/content/drive/MyDrive/UOC/DELT/weights/osaconservation-youtube-202412032305-yolov5l-new_version-1_frames/weights/best.pt'], batch_size=32, imgsz=640, conf_thres=0.001, iou_thres=0.6, max_det=300, task=val, device=, workers=8, single_cls=False, augment=False, verbose=False, save_txt=False, save_hybrid=False, save_conf=False, save_json=False, project=/content/drive/MyDrive/UOC/DELT/weights, name=osaconservation-youtube-202412032305-yolov5l-new_version-1_frames-val, exist_ok=False, half=False, dnn=False\n",
            "YOLOv5 🚀 v7.0-388-g882c35fc Python-3.10.12 torch-2.5.1+cu121 CUDA:0 (Tesla T4, 15102MiB)\n",
            "\n",
            "Fusing layers... \n",
            "Model summary: 267 layers, 46108278 parameters, 0 gradients, 107.6 GFLOPs\n",
            "\u001b[34m\u001b[1mval: \u001b[0mScanning /content/datasets/DELT/labels/val.cache... 1408 images, 848 backgrounds, 0 corrupt: 100% 2256/2256 [00:00<?, ?it/s]\n",
            "                 Class     Images  Instances          P          R      mAP50   mAP50-95: 100% 71/71 [01:01<00:00,  1.15it/s]\n",
            "                   all       2256       6973      0.964      0.934      0.977      0.762\n",
            "Speed: 0.2ms pre-process, 21.3ms inference, 1.4ms NMS per image at shape (32, 3, 640, 640)\n",
            "Results saved to \u001b[1m/content/drive/MyDrive/UOC/DELT/weights/osaconservation-youtube-202412032305-yolov5l-new_version-1_frames-val\u001b[0m\n"
          ]
        }
      ]
    },
    {
      "cell_type": "markdown",
      "source": [
        "# OSA Conservation + YouTube (Talla X)"
      ],
      "metadata": {
        "id": "ufS9agG5dQPi"
      }
    },
    {
      "cell_type": "code",
      "source": [
        "model_v = 'osaconservation-youtube-202412040731-yolov5x-new_version-1_frames'\n",
        "weigths_path = '/content/drive/MyDrive/UOC/DELT/weights/'+model_v+'/weights/best.pt'\n",
        "\n",
        "project_name = model_v + '-val'\n",
        "project_folder = '/content/drive/MyDrive/UOC/DELT/weights'\n",
        "\n",
        "# ['PreArribada','106FTASK','108FTASK','113FTASK','114FTASK','119FTASK','120FTASK','122FTASK','125FTASK']\n",
        "\n",
        "!python val.py --data data/DELT.yaml --weights {weigths_path} --project {project_folder} --name {project_name}"
      ],
      "metadata": {
        "colab": {
          "base_uri": "https://localhost:8080/"
        },
        "outputId": "03aad114-ab6e-4f11-c99d-c57e0c42ea6a",
        "id": "RoDuNhC7dQPk"
      },
      "execution_count": null,
      "outputs": [
        {
          "output_type": "stream",
          "name": "stdout",
          "text": [
            "\u001b[34m\u001b[1mval: \u001b[0mdata=data/DELT.yaml, weights=['/content/drive/MyDrive/UOC/DELT/weights/osaconservation-youtube-202412040731-yolov5x-new_version-1_frames/weights/best.pt'], batch_size=32, imgsz=640, conf_thres=0.001, iou_thres=0.6, max_det=300, task=val, device=, workers=8, single_cls=False, augment=False, verbose=False, save_txt=False, save_hybrid=False, save_conf=False, save_json=False, project=/content/drive/MyDrive/UOC/DELT/weights, name=osaconservation-youtube-202412040731-yolov5x-new_version-1_frames-val, exist_ok=False, half=False, dnn=False\n",
            "YOLOv5 🚀 v7.0-388-g882c35fc Python-3.10.12 torch-2.5.1+cu121 CUDA:0 (Tesla T4, 15102MiB)\n",
            "\n",
            "Fusing layers... \n",
            "Model summary: 322 layers, 86173414 parameters, 0 gradients, 203.8 GFLOPs\n",
            "\u001b[34m\u001b[1mval: \u001b[0mScanning /content/datasets/DELT/labels/val.cache... 1408 images, 848 backgrounds, 0 corrupt: 100% 2256/2256 [00:00<?, ?it/s]\n",
            "                 Class     Images  Instances          P          R      mAP50   mAP50-95: 100% 71/71 [02:00<00:00,  1.69s/it]\n",
            "                   all       2256       6973      0.957       0.95      0.978      0.757\n",
            "Speed: 0.2ms pre-process, 47.7ms inference, 1.1ms NMS per image at shape (32, 3, 640, 640)\n",
            "Results saved to \u001b[1m/content/drive/MyDrive/UOC/DELT/weights/osaconservation-youtube-202412040731-yolov5x-new_version-1_frames-val\u001b[0m\n"
          ]
        }
      ]
    },
    {
      "cell_type": "markdown",
      "source": [
        "# OSA + Vive Mar (Mejorado)"
      ],
      "metadata": {
        "id": "EF7dqcrn9HUf"
      }
    },
    {
      "cell_type": "code",
      "source": [
        "model_v = 'osaconservation-vivemar-202412091636-yolov5s-new_version-1_frames'\n",
        "weigths_path = '/content/drive/MyDrive/UOC/DELT/weights/'+model_v+'/weights/best.pt'\n",
        "\n",
        "project_name = model_v + '-val'\n",
        "project_folder = '/content/drive/MyDrive/UOC/DELT/weights'\n",
        "\n",
        "# ['PreArribada','106FTASK','108FTASK','113FTASK','114FTASK','119FTASK','120FTASK','122FTASK','125FTASK']\n",
        "\n",
        "!python val.py --data data/DELT.yaml --weights {weigths_path} --project {project_folder} --name {project_name}"
      ],
      "metadata": {
        "colab": {
          "base_uri": "https://localhost:8080/"
        },
        "id": "eOQm6Fdq9HL3",
        "outputId": "778c6845-417f-48fd-ff05-b98f1997b559"
      },
      "execution_count": null,
      "outputs": [
        {
          "output_type": "stream",
          "name": "stdout",
          "text": [
            "\u001b[34m\u001b[1mval: \u001b[0mdata=data/DELT.yaml, weights=['/content/drive/MyDrive/UOC/DELT/weights/osaconservation-vivemar-202412091636-yolov5s-new_version-1_frames/weights/best.pt'], batch_size=32, imgsz=640, conf_thres=0.001, iou_thres=0.6, max_det=300, task=val, device=, workers=8, single_cls=False, augment=False, verbose=False, save_txt=False, save_hybrid=False, save_conf=False, save_json=False, project=/content/drive/MyDrive/UOC/DELT/weights, name=osaconservation-vivemar-202412091636-yolov5s-new_version-1_frames-val, exist_ok=False, half=False, dnn=False\n",
            "YOLOv5 🚀 v7.0-389-ge62a31b6 Python-3.10.12 torch-2.5.1+cu121 CUDA:0 (Tesla T4, 15102MiB)\n",
            "\n",
            "Fusing layers... \n",
            "Model summary: 157 layers, 7012822 parameters, 0 gradients, 15.8 GFLOPs\n",
            "\u001b[34m\u001b[1mval: \u001b[0mScanning /content/datasets/DELT/labels/val... 1408 images, 848 backgrounds, 0 corrupt: 100% 2256/2256 [00:01<00:00, 1900.06it/s]\n",
            "\u001b[34m\u001b[1mval: \u001b[0mNew cache created: /content/datasets/DELT/labels/val.cache\n",
            "                 Class     Images  Instances          P          R      mAP50   mAP50-95: 100% 71/71 [00:29<00:00,  2.45it/s]\n",
            "                   all       2256       6973      0.957      0.927      0.973      0.722\n",
            "Speed: 0.2ms pre-process, 5.1ms inference, 2.0ms NMS per image at shape (32, 3, 640, 640)\n",
            "Results saved to \u001b[1m/content/drive/MyDrive/UOC/DELT/weights/osaconservation-vivemar-202412091636-yolov5s-new_version-1_frames-val\u001b[0m\n"
          ]
        }
      ]
    },
    {
      "cell_type": "code",
      "source": [
        "from google.colab import runtime\n",
        "runtime.unassign()"
      ],
      "metadata": {
        "id": "Q6kF6gjd0aF_"
      },
      "execution_count": null,
      "outputs": []
    }
  ]
}